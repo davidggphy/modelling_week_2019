{
 "cells": [
  {
   "cell_type": "code",
   "execution_count": 40,
   "metadata": {
    "ExecuteTime": {
     "end_time": "2019-06-11T15:23:27.554559Z",
     "start_time": "2019-06-11T15:23:27.546087Z"
    }
   },
   "outputs": [],
   "source": [
    "import pandas as pd\n",
    "import matplotlib.pyplot as plt\n",
    "import seaborn as sns\n",
    "import numpy as np\n",
    "import os\n",
    "import scipy\n",
    "import sklearn\n",
    "# plt.style.use('fivethirtyeight')\n",
    "sns.set_style(\"whitegrid\")\n",
    "sns.set_context(\"notebook\")\n",
    "DATA_PATH = '../data/'\n",
    "\n",
    "VAL_SPLITS = 4"
   ]
  },
  {
   "cell_type": "code",
   "execution_count": 41,
   "metadata": {
    "ExecuteTime": {
     "end_time": "2019-06-11T15:23:28.286270Z",
     "start_time": "2019-06-11T15:23:28.270210Z"
    }
   },
   "outputs": [],
   "source": [
    "def plot_confusion_matrix(y_true, y_pred, classes,\n",
    "                          normalize=False,\n",
    "                          title=None,\n",
    "                          cmap=plt.cm.Blues):\n",
    "    \"\"\"\n",
    "    This function prints and plots the confusion matrix.\n",
    "    Normalization can be applied by setting `normalize=True`.\n",
    "    \"\"\"\n",
    "    if not title:\n",
    "        if normalize:\n",
    "            title = 'Normalized confusion matrix'\n",
    "        else:\n",
    "            title = 'Confusion matrix, without normalization'\n",
    "\n",
    "    # Compute confusion matrix\n",
    "    cm = confusion_matrix(y_true, y_pred)\n",
    "    # Only use the labels that appear in the data\n",
    "    classes = classes[unique_labels(y_true, y_pred)]\n",
    "    if normalize:\n",
    "        cm = cm.astype('float') / cm.sum(axis=1)[:, np.newaxis]\n",
    "        print(\"Normalized confusion matrix\")\n",
    "    else:\n",
    "        print('Confusion matrix, without normalization')\n",
    "\n",
    "    print(cm)\n",
    "\n",
    "    fig, ax = plt.subplots()\n",
    "    im = ax.imshow(cm, interpolation='nearest', cmap=cmap)\n",
    "    ax.figure.colorbar(im, ax=ax)\n",
    "    # We want to show all ticks...\n",
    "    ax.set(xticks=np.arange(cm.shape[1]),\n",
    "           yticks=np.arange(cm.shape[0]),\n",
    "           # ... and label them with the respective list entries\n",
    "           xticklabels=classes, yticklabels=classes,\n",
    "           title=title,\n",
    "           ylabel='True label',\n",
    "           xlabel='Predicted label')\n",
    "\n",
    "    # Rotate the tick labels and set their alignment.\n",
    "    plt.setp(ax.get_xticklabels(), rotation=45, ha=\"right\",\n",
    "             rotation_mode=\"anchor\")\n",
    "\n",
    "    # Loop over data dimensions and create text annotations.\n",
    "    fmt = '.2f' if normalize else 'd'\n",
    "    thresh = cm.max() / 2.\n",
    "    for i in range(cm.shape[0]):\n",
    "        for j in range(cm.shape[1]):\n",
    "            ax.text(j, i, format(cm[i, j], fmt),\n",
    "                    ha=\"center\", va=\"center\",\n",
    "                    color=\"white\" if cm[i, j] > thresh else \"black\")\n",
    "    fig.tight_layout()\n",
    "    return ax"
   ]
  },
  {
   "cell_type": "code",
   "execution_count": 46,
   "metadata": {
    "ExecuteTime": {
     "end_time": "2019-06-11T15:25:28.829200Z",
     "start_time": "2019-06-11T15:25:26.096993Z"
    }
   },
   "outputs": [
    {
     "data": {
      "text/html": [
       "<div>\n",
       "<style scoped>\n",
       "    .dataframe tbody tr th:only-of-type {\n",
       "        vertical-align: middle;\n",
       "    }\n",
       "\n",
       "    .dataframe tbody tr th {\n",
       "        vertical-align: top;\n",
       "    }\n",
       "\n",
       "    .dataframe thead th {\n",
       "        text-align: right;\n",
       "    }\n",
       "</style>\n",
       "<table border=\"1\" class=\"dataframe\">\n",
       "  <thead>\n",
       "    <tr style=\"text-align: right;\">\n",
       "      <th></th>\n",
       "      <th>V1</th>\n",
       "      <th>V2</th>\n",
       "      <th>V3</th>\n",
       "      <th>V4</th>\n",
       "      <th>V5</th>\n",
       "      <th>V6</th>\n",
       "      <th>V7</th>\n",
       "      <th>V8</th>\n",
       "      <th>V9</th>\n",
       "      <th>V10</th>\n",
       "      <th>...</th>\n",
       "      <th>V24</th>\n",
       "      <th>V25</th>\n",
       "      <th>V26</th>\n",
       "      <th>V27</th>\n",
       "      <th>V28</th>\n",
       "      <th>Class</th>\n",
       "      <th>TimeScaled</th>\n",
       "      <th>TimeSin</th>\n",
       "      <th>TimeCos</th>\n",
       "      <th>AmountBC</th>\n",
       "    </tr>\n",
       "  </thead>\n",
       "  <tbody>\n",
       "    <tr>\n",
       "      <th>0</th>\n",
       "      <td>-0.829392</td>\n",
       "      <td>1.118573</td>\n",
       "      <td>0.926038</td>\n",
       "      <td>1.163686</td>\n",
       "      <td>0.009824</td>\n",
       "      <td>0.527347</td>\n",
       "      <td>0.173370</td>\n",
       "      <td>0.723997</td>\n",
       "      <td>-0.638939</td>\n",
       "      <td>-0.162923</td>\n",
       "      <td>...</td>\n",
       "      <td>-0.298908</td>\n",
       "      <td>-0.060301</td>\n",
       "      <td>-0.217935</td>\n",
       "      <td>0.291312</td>\n",
       "      <td>0.120779</td>\n",
       "      <td>0</td>\n",
       "      <td>0.460069</td>\n",
       "      <td>-0.480989</td>\n",
       "      <td>0.876727</td>\n",
       "      <td>3.195062</td>\n",
       "    </tr>\n",
       "    <tr>\n",
       "      <th>1</th>\n",
       "      <td>-2.814527</td>\n",
       "      <td>1.613321</td>\n",
       "      <td>0.654307</td>\n",
       "      <td>0.581821</td>\n",
       "      <td>0.399491</td>\n",
       "      <td>0.730040</td>\n",
       "      <td>0.456233</td>\n",
       "      <td>-2.464347</td>\n",
       "      <td>0.654797</td>\n",
       "      <td>2.248682</td>\n",
       "      <td>...</td>\n",
       "      <td>-0.329526</td>\n",
       "      <td>-0.307374</td>\n",
       "      <td>-0.440007</td>\n",
       "      <td>-2.135657</td>\n",
       "      <td>0.011041</td>\n",
       "      <td>0</td>\n",
       "      <td>0.266395</td>\n",
       "      <td>-0.204567</td>\n",
       "      <td>-0.978853</td>\n",
       "      <td>3.125269</td>\n",
       "    </tr>\n",
       "    <tr>\n",
       "      <th>2</th>\n",
       "      <td>2.105028</td>\n",
       "      <td>-0.700400</td>\n",
       "      <td>-1.338043</td>\n",
       "      <td>-0.596395</td>\n",
       "      <td>-0.395217</td>\n",
       "      <td>-0.755050</td>\n",
       "      <td>-0.276951</td>\n",
       "      <td>-0.291562</td>\n",
       "      <td>-0.965418</td>\n",
       "      <td>1.107179</td>\n",
       "      <td>...</td>\n",
       "      <td>-0.278137</td>\n",
       "      <td>-0.040685</td>\n",
       "      <td>0.789267</td>\n",
       "      <td>-0.066054</td>\n",
       "      <td>-0.069956</td>\n",
       "      <td>0</td>\n",
       "      <td>0.762303</td>\n",
       "      <td>-0.153992</td>\n",
       "      <td>-0.988072</td>\n",
       "      <td>3.421235</td>\n",
       "    </tr>\n",
       "    <tr>\n",
       "      <th>3</th>\n",
       "      <td>2.205839</td>\n",
       "      <td>-1.023897</td>\n",
       "      <td>-1.270137</td>\n",
       "      <td>-0.950174</td>\n",
       "      <td>-0.868712</td>\n",
       "      <td>-0.975492</td>\n",
       "      <td>-0.475464</td>\n",
       "      <td>-0.280564</td>\n",
       "      <td>0.503713</td>\n",
       "      <td>0.448173</td>\n",
       "      <td>...</td>\n",
       "      <td>-0.041177</td>\n",
       "      <td>0.089158</td>\n",
       "      <td>1.105794</td>\n",
       "      <td>-0.066285</td>\n",
       "      <td>-0.079881</td>\n",
       "      <td>0</td>\n",
       "      <td>0.879740</td>\n",
       "      <td>-0.998227</td>\n",
       "      <td>0.059524</td>\n",
       "      <td>1.072145</td>\n",
       "    </tr>\n",
       "    <tr>\n",
       "      <th>4</th>\n",
       "      <td>2.027090</td>\n",
       "      <td>-0.778666</td>\n",
       "      <td>-1.552755</td>\n",
       "      <td>-0.558679</td>\n",
       "      <td>0.020939</td>\n",
       "      <td>-0.026071</td>\n",
       "      <td>-0.207810</td>\n",
       "      <td>-0.124288</td>\n",
       "      <td>-0.635953</td>\n",
       "      <td>0.817757</td>\n",
       "      <td>...</td>\n",
       "      <td>0.033477</td>\n",
       "      <td>-0.157992</td>\n",
       "      <td>-0.606327</td>\n",
       "      <td>-0.003931</td>\n",
       "      <td>-0.039868</td>\n",
       "      <td>0</td>\n",
       "      <td>0.821649</td>\n",
       "      <td>-0.783558</td>\n",
       "      <td>-0.621319</td>\n",
       "      <td>3.971490</td>\n",
       "    </tr>\n",
       "  </tbody>\n",
       "</table>\n",
       "<p>5 rows × 33 columns</p>\n",
       "</div>"
      ],
      "text/plain": [
       "         V1        V2        V3        V4        V5        V6        V7  \\\n",
       "0 -0.829392  1.118573  0.926038  1.163686  0.009824  0.527347  0.173370   \n",
       "1 -2.814527  1.613321  0.654307  0.581821  0.399491  0.730040  0.456233   \n",
       "2  2.105028 -0.700400 -1.338043 -0.596395 -0.395217 -0.755050 -0.276951   \n",
       "3  2.205839 -1.023897 -1.270137 -0.950174 -0.868712 -0.975492 -0.475464   \n",
       "4  2.027090 -0.778666 -1.552755 -0.558679  0.020939 -0.026071 -0.207810   \n",
       "\n",
       "         V8        V9       V10  ...       V24       V25       V26       V27  \\\n",
       "0  0.723997 -0.638939 -0.162923  ... -0.298908 -0.060301 -0.217935  0.291312   \n",
       "1 -2.464347  0.654797  2.248682  ... -0.329526 -0.307374 -0.440007 -2.135657   \n",
       "2 -0.291562 -0.965418  1.107179  ... -0.278137 -0.040685  0.789267 -0.066054   \n",
       "3 -0.280564  0.503713  0.448173  ... -0.041177  0.089158  1.105794 -0.066285   \n",
       "4 -0.124288 -0.635953  0.817757  ...  0.033477 -0.157992 -0.606327 -0.003931   \n",
       "\n",
       "        V28  Class  TimeScaled   TimeSin   TimeCos  AmountBC  \n",
       "0  0.120779      0    0.460069 -0.480989  0.876727  3.195062  \n",
       "1  0.011041      0    0.266395 -0.204567 -0.978853  3.125269  \n",
       "2 -0.069956      0    0.762303 -0.153992 -0.988072  3.421235  \n",
       "3 -0.079881      0    0.879740 -0.998227  0.059524  1.072145  \n",
       "4 -0.039868      0    0.821649 -0.783558 -0.621319  3.971490  \n",
       "\n",
       "[5 rows x 33 columns]"
      ]
     },
     "execution_count": 46,
     "metadata": {},
     "output_type": "execute_result"
    }
   ],
   "source": [
    "df = pd.read_csv(os.path.join(DATA_PATH,'df_train.csv'))\n",
    "df.drop(columns= df.columns[0:2],inplace=True)\n",
    "df.head()"
   ]
  },
  {
   "cell_type": "code",
   "execution_count": 79,
   "metadata": {
    "ExecuteTime": {
     "end_time": "2019-06-11T16:40:15.493840Z",
     "start_time": "2019-06-11T16:40:15.484715Z"
    }
   },
   "outputs": [],
   "source": [
    "from sklearn.model_selection import StratifiedShuffleSplit\n",
    "from sklearn.linear_model import LogisticRegression\n",
    "from sklearn.metrics import f1_score\n",
    "from sklearn.ensemble import RandomForestClassifier\n",
    "from sklearn.ensemble import AdaBoostClassifier\n",
    "from sklearn.preprocessing import StandardScaler\n",
    "from sklearn.neighbors import KNeighborsClassifier\n",
    "from sklearn.ensemble import ExtraTreesClassifier"
   ]
  },
  {
   "cell_type": "code",
   "execution_count": 49,
   "metadata": {
    "ExecuteTime": {
     "end_time": "2019-06-11T15:25:51.979885Z",
     "start_time": "2019-06-11T15:25:43.929801Z"
    }
   },
   "outputs": [
    {
     "name": "stdout",
     "output_type": "stream",
     "text": [
      "Metric value (Train): 0.61 ± 0.01\n",
      "Metric value(Val): 0.63 ± 0.06\n"
     ]
    }
   ],
   "source": [
    "val_split = StratifiedShuffleSplit(n_splits=VAL_SPLITS,test_size=0.15,random_state=0)\n",
    "clf = LogisticRegression(solver='sag',random_state=0)\n",
    "\n",
    "metrics = []\n",
    "metrics_train = []\n",
    "\n",
    "for idx_t, idx_v in val_split.split(df,df.Class):\n",
    "    df_ = df[['Class','V12','AmountBC','V16','V9']]\n",
    "    X_train = df_.iloc[idx_t].drop(columns='Class').to_numpy()\n",
    "    y_train = df_.iloc[idx_t]['Class'].to_numpy()\n",
    "    X_val = df_.iloc[idx_v].drop(columns='Class').to_numpy()\n",
    "    y_val = df_.iloc[idx_v]['Class'].to_numpy()\n",
    "    \n",
    "    \n",
    "    clf.fit(X_train,y_train)\n",
    "    \n",
    "    y_pred = clf.predict(X_val)\n",
    "    metric = f1_score(y_val,y_pred)\n",
    "    metrics.append(metric)\n",
    "    \n",
    "    y_t_pred = clf.predict(X_train)\n",
    "    metric_train = f1_score(y_train,y_t_pred)\n",
    "    metrics_train.append(metric_train)\n",
    "    print('{}-fold / {} completed!'.format(i+1,VAL_SPLITS))\n",
    "metric_mean = np.mean(metrics)\n",
    "metric_std = np.std(metrics, ddof=1)\n",
    "metric_t_mean = np.mean(metrics_train)\n",
    "metric_t_std = np.std(metrics_train, ddof=1)\n",
    "print('Metric value (Train): {:.2f} ± {:.2f}'.format(metric_t_mean,metric_t_std))\n",
    "print('Metric value(Val): {:.2f} ± {:.2f}'.format(metric_mean,metric_std))"
   ]
  },
  {
   "cell_type": "code",
   "execution_count": null,
   "metadata": {},
   "outputs": [],
   "source": [
    "val_split = StratifiedShuffleSplit(n_splits=VAL_SPLITS,test_size=0.15,random_state=0)\n",
    "clf = LogisticRegression(solver='sag',random_state=0)\n",
    "\n",
    "metrics = []\n",
    "metrics_train = []\n",
    "\n",
    "for idx_t, idx_v in val_split.split(df,df.Class):\n",
    "    df_ = df[['Class','V12','AmountBC','V16','V9']]\n",
    "    X_train = df_.iloc[idx_t].drop(columns='Class').to_numpy()\n",
    "    y_train = df_.iloc[idx_t]['Class'].to_numpy()\n",
    "    X_val = df_.iloc[idx_v].drop(columns='Class').to_numpy()\n",
    "    y_val = df_.iloc[idx_v]['Class'].to_numpy()\n",
    "    \n",
    "    clf.fit(X_train,y_train)\n",
    "    \n",
    "    y_pred = clf.predict(X_val)\n",
    "    metric = f1_score(y_val,y_pred)\n",
    "    metrics.append(metric)\n",
    "    \n",
    "    y_t_pred = clf.predict(X_train)\n",
    "    metric_train = f1_score(y_train,y_t_pred)\n",
    "    metrics_train.append(metric_train)\n",
    "    print('{}-fold / {} completed!'.format(i+1,VAL_SPLITS))\n",
    "metric_mean = np.mean(metrics)\n",
    "metric_std = np.std(metrics, ddof=1)\n",
    "metric_t_mean = np.mean(metrics_train)\n",
    "metric_t_std = np.std(metrics_train, ddof=1)\n",
    "print('Metric value (Train): {:.2f} ± {:.2f}'.format(metric_t_mean,metric_t_std))\n",
    "print('Metric value(Val): {:.2f} ± {:.2f}'.format(metric_mean,metric_std))"
   ]
  },
  {
   "cell_type": "code",
   "execution_count": 50,
   "metadata": {
    "ExecuteTime": {
     "end_time": "2019-06-11T15:25:51.987311Z",
     "start_time": "2019-06-11T15:25:51.983326Z"
    }
   },
   "outputs": [],
   "source": []
  },
  {
   "cell_type": "code",
   "execution_count": 51,
   "metadata": {
    "ExecuteTime": {
     "end_time": "2019-06-11T15:31:27.671644Z",
     "start_time": "2019-06-11T15:25:51.991140Z"
    }
   },
   "outputs": [
    {
     "name": "stdout",
     "output_type": "stream",
     "text": [
      "1-fold / 4 completed!\n",
      "2-fold / 4 completed!\n",
      "3-fold / 4 completed!\n",
      "4-fold / 4 completed!\n",
      "Metric value (Train): 1.00 ± 0.00\n",
      "Metric value(Val): 0.83 ± 0.04\n"
     ]
    }
   ],
   "source": [
    "val_split = StratifiedShuffleSplit(n_splits=VAL_SPLITS,test_size=0.15,random_state=0)\n",
    "clf = RandomForestClassifier(n_estimators=100,n_jobs=8,random_state=0)\n",
    "\n",
    "metrics = []\n",
    "metrics_train = []\n",
    "df_ = df\n",
    "X = df_.drop(columns='Class').to_numpy()\n",
    "y = df_['Class'].to_numpy()\n",
    "for i,(idx_t, idx_v) in enumerate(val_split.split(X,y)):\n",
    "    X_train = X[idx_t]\n",
    "    y_train = y[idx_t]\n",
    "    X_val = X[idx_v]\n",
    "    y_val = y[idx_v]\n",
    "    \n",
    "    clf.fit(X_train,y_train)\n",
    "    \n",
    "    y_pred = clf.predict(X_val)\n",
    "    metric = f1_score(y_val,y_pred)\n",
    "    metrics.append(metric)\n",
    "    \n",
    "    y_t_pred = clf.predict(X_train)\n",
    "    metric_train = f1_score(y_train,y_t_pred)\n",
    "    metrics_train.append(metric_train)\n",
    "    \n",
    "    print('{}-fold / {} completed!'.format(i+1,VAL_SPLITS))\n",
    "metric_mean = np.mean(metrics)\n",
    "metric_std = np.std(metrics, ddof=1)\n",
    "metric_t_mean = np.mean(metrics_train)\n",
    "metric_t_std = np.std(metrics_train, ddof=1)\n",
    "print('Metric value (Train): {:.2f} ± {:.2f}'.format(metric_t_mean,metric_t_std))\n",
    "print('Metric value(Val): {:.2f} ± {:.2f}'.format(metric_mean,metric_std))"
   ]
  },
  {
   "cell_type": "code",
   "execution_count": 52,
   "metadata": {
    "ExecuteTime": {
     "end_time": "2019-06-11T15:31:27.902453Z",
     "start_time": "2019-06-11T15:31:27.675113Z"
    }
   },
   "outputs": [
    {
     "name": "stdout",
     "output_type": "stream",
     "text": [
      "V1 1.4445690344130526\n",
      "V2 1.0407789352493997\n",
      "V3 1.8334328539683125\n",
      "V4 2.4508095633053926\n",
      "V5 1.3080906158696157\n",
      "V6 1.266587100952753\n",
      "V7 2.172020109878126\n",
      "V8 1.0004153158890368\n",
      "V9 2.9169683492456517\n",
      "V10 7.467995669410439\n",
      "V11 7.067423274885819\n",
      "V12 9.889335640881278\n",
      "V13 1.1742516564243106\n",
      "V14 11.261043868424617\n",
      "V15 1.1506599918831715\n",
      "V16 9.190379372644717\n",
      "V17 16.83700394567183\n",
      "V18 2.4739896718587397\n",
      "V19 1.0512658982656427\n",
      "V20 1.4378303692438361\n",
      "V21 1.839861052533947\n",
      "V22 1.1349676912907947\n",
      "V23 0.7643447010475918\n",
      "V24 0.9921365053866255\n",
      "V25 0.9097270921540689\n",
      "V26 2.3268793192105965\n",
      "V27 1.509509331853052\n",
      "V28 0.848657603382417\n",
      "TimeScaled 1.1273378696609109\n",
      "TimeSin 1.9413620726002765\n",
      "TimeCos 1.1139122446028416\n",
      "AmountBC 1.0564532779111413\n"
     ]
    }
   ],
   "source": [
    "for name, value in zip(df.drop(columns='Class').columns,100*clf.feature_importances_):\n",
    "    print(name,value)"
   ]
  },
  {
   "cell_type": "code",
   "execution_count": 54,
   "metadata": {
    "ExecuteTime": {
     "end_time": "2019-06-11T15:31:39.450414Z",
     "start_time": "2019-06-11T15:31:39.446932Z"
    }
   },
   "outputs": [],
   "source": []
  },
  {
   "cell_type": "code",
   "execution_count": 55,
   "metadata": {
    "ExecuteTime": {
     "end_time": "2019-06-11T15:36:00.452094Z",
     "start_time": "2019-06-11T15:31:46.862644Z"
    }
   },
   "outputs": [
    {
     "name": "stdout",
     "output_type": "stream",
     "text": [
      "1-fold / 4 completed!\n",
      "2-fold / 4 completed!\n",
      "3-fold / 4 completed!\n",
      "4-fold / 4 completed!\n",
      "Metric value (Train): 0.74 ± 0.00\n",
      "Metric value(Val): 0.72 ± 0.04\n"
     ]
    }
   ],
   "source": [
    "val_split = StratifiedShuffleSplit(n_splits=VAL_SPLITS,test_size=0.15,random_state=0)\n",
    "clf = AdaBoostClassifier()\n",
    "\n",
    "metrics = []\n",
    "metrics_train = []\n",
    "df_ = df\n",
    "X = df_.drop(columns='Class').to_numpy()\n",
    "y = df_['Class'].to_numpy()\n",
    "for i,(idx_t, idx_v) in enumerate(val_split.split(X,y)):\n",
    "    X_train = X[idx_t]\n",
    "    y_train = y[idx_t]\n",
    "    X_val = X[idx_v]\n",
    "    y_val = y[idx_v]\n",
    "    \n",
    "    clf.fit(X_train,y_train)\n",
    "    \n",
    "    y_pred = clf.predict(X_val)\n",
    "    metric = f1_score(y_val,y_pred)\n",
    "    metrics.append(metric)\n",
    "    \n",
    "    y_t_pred = clf.predict(X_train)\n",
    "    metric_train = f1_score(y_train,y_t_pred)\n",
    "    metrics_train.append(metric_train)\n",
    "    \n",
    "    print('{}-fold / {} completed!'.format(i+1,VAL_SPLITS))\n",
    "metric_mean = np.mean(metrics)\n",
    "metric_std = np.std(metrics, ddof=1)\n",
    "metric_t_mean = np.mean(metrics_train)\n",
    "metric_t_std = np.std(metrics_train, ddof=1)\n",
    "print('Metric value (Train): {:.2f} ± {:.2f}'.format(metric_t_mean,metric_t_std))\n",
    "print('Metric value(Val): {:.2f} ± {:.2f}'.format(metric_mean,metric_std))"
   ]
  },
  {
   "cell_type": "code",
   "execution_count": 58,
   "metadata": {
    "ExecuteTime": {
     "end_time": "2019-06-11T15:37:49.557233Z",
     "start_time": "2019-06-11T15:37:49.454398Z"
    }
   },
   "outputs": [
    {
     "name": "stdout",
     "output_type": "stream",
     "text": [
      "V1 2.0\n",
      "V2 2.0\n",
      "V3 4.0\n",
      "V4 10.0\n",
      "V5 2.0\n",
      "V6 2.0\n",
      "V7 2.0\n",
      "V8 4.0\n",
      "V9 0.0\n",
      "V10 2.0\n",
      "V11 4.0\n",
      "V12 4.0\n",
      "V13 2.0\n",
      "V14 8.0\n",
      "V15 2.0\n",
      "V16 2.0\n",
      "V17 6.0\n",
      "V18 6.0\n",
      "V19 6.0\n",
      "V20 4.0\n",
      "V21 0.0\n",
      "V22 4.0\n",
      "V23 0.0\n",
      "V24 2.0\n",
      "V25 0.0\n",
      "V26 2.0\n",
      "V27 2.0\n",
      "V28 4.0\n",
      "TimeScaled 2.0\n",
      "TimeSin 4.0\n",
      "TimeCos 0.0\n",
      "AmountBC 6.0\n"
     ]
    }
   ],
   "source": [
    "for name, val in zip(df_.drop(columns='Class').columns,100*clf.feature_importances_):\n",
    "    print(name,val)"
   ]
  },
  {
   "cell_type": "code",
   "execution_count": 72,
   "metadata": {
    "ExecuteTime": {
     "end_time": "2019-06-11T16:14:43.126426Z",
     "start_time": "2019-06-11T16:14:40.913375Z"
    }
   },
   "outputs": [
    {
     "name": "stdout",
     "output_type": "stream",
     "text": [
      "1-fold / 4 completed!\n",
      "2-fold / 4 completed!\n",
      "3-fold / 4 completed!\n",
      "4-fold / 4 completed!\n",
      "Metric value (Train): 0.08 ± 0.01\n",
      "Metric value(Val): 0.08 ± 0.00\n"
     ]
    }
   ],
   "source": [
    "val_split = StratifiedShuffleSplit(n_splits=VAL_SPLITS,test_size=0.15,random_state=0)\n",
    "clf = LogisticRegression(solver='lbfgs',random_state=0,class_weight='balanced')\n",
    "scaler = StandardScaler()\n",
    "metrics = []\n",
    "metrics_train = []\n",
    "df_ = df[['Class','V4','V14','V16','V17','V18','TimeSin','AmountBC']]\n",
    "X = df_.drop(columns='Class').to_numpy()\n",
    "y = df_['Class'].to_numpy()\n",
    "for i,(idx_t, idx_v) in enumerate(val_split.split(X,y)):\n",
    "    X_train = X[idx_t]\n",
    "    y_train = y[idx_t]\n",
    "    X_val = X[idx_v]\n",
    "    y_val = y[idx_v]\n",
    "    scaler.fit(X_train)\n",
    "    X_train = scaler.transform(X_train)\n",
    "    X_val = scaler.transform(X_val)\n",
    "    \n",
    "    clf.fit(X_train,y_train)\n",
    "    \n",
    "    y_pred = clf.predict(X_val)\n",
    "    metric = f1_score(y_val,y_pred)\n",
    "    metrics.append(metric)\n",
    "    \n",
    "    y_t_pred = clf.predict(X_train)\n",
    "    metric_train = f1_score(y_train,y_t_pred)\n",
    "    metrics_train.append(metric_train)\n",
    "    \n",
    "    print('{}-fold / {} completed!'.format(i+1,VAL_SPLITS))\n",
    "metric_mean = np.mean(metrics)\n",
    "metric_std = np.std(metrics, ddof=1)\n",
    "metric_t_mean = np.mean(metrics_train)\n",
    "metric_t_std = np.std(metrics_train, ddof=1)\n",
    "print('Metric value (Train): {:.2f} ± {:.2f}'.format(metric_t_mean,metric_t_std))\n",
    "print('Metric value(Val): {:.2f} ± {:.2f}'.format(metric_mean,metric_std))"
   ]
  },
  {
   "cell_type": "code",
   "execution_count": 73,
   "metadata": {
    "ExecuteTime": {
     "end_time": "2019-06-11T16:15:14.737981Z",
     "start_time": "2019-06-11T16:15:12.609765Z"
    }
   },
   "outputs": [
    {
     "name": "stdout",
     "output_type": "stream",
     "text": [
      "1-fold / 4 completed!\n",
      "2-fold / 4 completed!\n",
      "3-fold / 4 completed!\n",
      "4-fold / 4 completed!\n",
      "Metric value (Train): 0.67 ± 0.01\n",
      "Metric value(Val): 0.66 ± 0.05\n"
     ]
    }
   ],
   "source": [
    "val_split = StratifiedShuffleSplit(n_splits=VAL_SPLITS,test_size=0.15,random_state=0)\n",
    "clf = LogisticRegression(solver='lbfgs',random_state=0)\n",
    "scaler = StandardScaler()\n",
    "\n",
    "metrics = []\n",
    "metrics_train = []\n",
    "df_ = df[['Class','V4','V14','V16','V17','V18','TimeSin','AmountBC']]\n",
    "X = df_.drop(columns='Class').to_numpy()\n",
    "y = df_['Class'].to_numpy()\n",
    "for i,(idx_t, idx_v) in enumerate(val_split.split(X,y)):\n",
    "    X_train = X[idx_t]\n",
    "    y_train = y[idx_t]\n",
    "    X_val = X[idx_v]\n",
    "    y_val = y[idx_v]\n",
    "    \n",
    "    scaler.fit(X_train)\n",
    "    X_train = scaler.transform(X_train)\n",
    "    X_val = scaler.transform(X_val)\n",
    "    \n",
    "    clf.fit(X_train,y_train)\n",
    "    \n",
    "    y_pred = clf.predict(X_val)\n",
    "    metric = f1_score(y_val,y_pred)\n",
    "    metrics.append(metric)\n",
    "    \n",
    "    y_t_pred = clf.predict(X_train)\n",
    "    metric_train = f1_score(y_train,y_t_pred)\n",
    "    metrics_train.append(metric_train)\n",
    "    \n",
    "    print('{}-fold / {} completed!'.format(i+1,VAL_SPLITS))\n",
    "metric_mean = np.mean(metrics)\n",
    "metric_std = np.std(metrics, ddof=1)\n",
    "metric_t_mean = np.mean(metrics_train)\n",
    "metric_t_std = np.std(metrics_train, ddof=1)\n",
    "print('Metric value (Train): {:.2f} ± {:.2f}'.format(metric_t_mean,metric_t_std))\n",
    "print('Metric value(Val): {:.2f} ± {:.2f}'.format(metric_mean,metric_std))"
   ]
  },
  {
   "cell_type": "code",
   "execution_count": null,
   "metadata": {},
   "outputs": [],
   "source": []
  },
  {
   "cell_type": "code",
   "execution_count": 77,
   "metadata": {
    "ExecuteTime": {
     "end_time": "2019-06-11T16:24:13.968596Z",
     "start_time": "2019-06-11T16:22:18.498607Z"
    }
   },
   "outputs": [
    {
     "name": "stdout",
     "output_type": "stream",
     "text": [
      "1-fold / 4 completed!\n",
      "2-fold / 4 completed!\n",
      "3-fold / 4 completed!\n",
      "4-fold / 4 completed!\n",
      "Metric value (Train): 0.87 ± 0.01\n",
      "Metric value(Val): 0.81 ± 0.07\n"
     ]
    }
   ],
   "source": [
    "val_split = StratifiedShuffleSplit(n_splits=VAL_SPLITS,test_size=0.15,random_state=0)\n",
    "clf = KNeighborsClassifier(n_neighbors=3)\n",
    "scaler = StandardScaler()\n",
    "\n",
    "metrics = []\n",
    "metrics_train = []\n",
    "df_ = df[['Class','V4','V14','V16','V17','V18','TimeSin','AmountBC']]\n",
    "X = df_.drop(columns='Class').to_numpy()\n",
    "y = df_['Class'].to_numpy()\n",
    "for i,(idx_t, idx_v) in enumerate(val_split.split(X,y)):\n",
    "    X_train = X[idx_t]\n",
    "    y_train = y[idx_t]\n",
    "    X_val = X[idx_v]\n",
    "    y_val = y[idx_v]\n",
    "    \n",
    "    scaler.fit(X_train)\n",
    "    X_train = scaler.transform(X_train)\n",
    "    X_val = scaler.transform(X_val)\n",
    "    \n",
    "    clf.fit(X_train,y_train)\n",
    "    \n",
    "    y_pred = clf.predict(X_val)\n",
    "    metric = f1_score(y_val,y_pred)\n",
    "    metrics.append(metric)\n",
    "    \n",
    "    y_t_pred = clf.predict(X_train)\n",
    "    metric_train = f1_score(y_train,y_t_pred)\n",
    "    metrics_train.append(metric_train)\n",
    "    \n",
    "    print('{}-fold / {} completed!'.format(i+1,VAL_SPLITS))\n",
    "metric_mean = np.mean(metrics)\n",
    "metric_std = np.std(metrics, ddof=1)\n",
    "metric_t_mean = np.mean(metrics_train)\n",
    "metric_t_std = np.std(metrics_train, ddof=1)\n",
    "print('Metric value (Train): {:.2f} ± {:.2f}'.format(metric_t_mean,metric_t_std))\n",
    "print('Metric value(Val): {:.2f} ± {:.2f}'.format(metric_mean,metric_std))"
   ]
  },
  {
   "cell_type": "code",
   "execution_count": 78,
   "metadata": {
    "ExecuteTime": {
     "end_time": "2019-06-11T16:39:17.840166Z",
     "start_time": "2019-06-11T16:37:19.661426Z"
    }
   },
   "outputs": [
    {
     "name": "stdout",
     "output_type": "stream",
     "text": [
      "1-fold / 4 completed!\n",
      "2-fold / 4 completed!\n",
      "3-fold / 4 completed!\n",
      "4-fold / 4 completed!\n",
      "Metric value (Train): 1.00 ± 0.00\n",
      "Metric value(Val): 0.80 ± 0.06\n"
     ]
    }
   ],
   "source": [
    "val_split = StratifiedShuffleSplit(n_splits=VAL_SPLITS,test_size=0.15,random_state=0)\n",
    "clf = RandomForestClassifier(n_estimators=100,n_jobs=-1,random_state=0)\n",
    "\n",
    "metrics = []\n",
    "metrics_train = []\n",
    "df_ = df[['Class','V4','V14','V16','V17','V18','TimeSin','AmountBC']]\n",
    "X = df_.drop(columns='Class').to_numpy()\n",
    "y = df_['Class'].to_numpy()\n",
    "for i,(idx_t, idx_v) in enumerate(val_split.split(X,y)):\n",
    "    X_train = X[idx_t]\n",
    "    y_train = y[idx_t]\n",
    "    X_val = X[idx_v]\n",
    "    y_val = y[idx_v]\n",
    "    \n",
    "    clf.fit(X_train,y_train)\n",
    "    \n",
    "    y_pred = clf.predict(X_val)\n",
    "    metric = f1_score(y_val,y_pred)\n",
    "    metrics.append(metric)\n",
    "    \n",
    "    y_t_pred = clf.predict(X_train)\n",
    "    metric_train = f1_score(y_train,y_t_pred)\n",
    "    metrics_train.append(metric_train)\n",
    "    \n",
    "    print('{}-fold / {} completed!'.format(i+1,VAL_SPLITS))\n",
    "metric_mean = np.mean(metrics)\n",
    "metric_std = np.std(metrics, ddof=1)\n",
    "metric_t_mean = np.mean(metrics_train)\n",
    "metric_t_std = np.std(metrics_train, ddof=1)\n",
    "print('Metric value (Train): {:.2f} ± {:.2f}'.format(metric_t_mean,metric_t_std))\n",
    "print('Metric value(Val): {:.2f} ± {:.2f}'.format(metric_mean,metric_std))"
   ]
  },
  {
   "cell_type": "code",
   "execution_count": 62,
   "metadata": {
    "ExecuteTime": {
     "end_time": "2019-06-11T15:43:05.634062Z",
     "start_time": "2019-06-11T15:42:07.336722Z"
    }
   },
   "outputs": [
    {
     "name": "stdout",
     "output_type": "stream",
     "text": [
      "1-fold / 4 completed!\n",
      "2-fold / 4 completed!\n",
      "3-fold / 4 completed!\n",
      "4-fold / 4 completed!\n",
      "Metric value (Train): 0.74 ± 0.01\n",
      "Metric value(Val): 0.73 ± 0.05\n"
     ]
    }
   ],
   "source": [
    "val_split = StratifiedShuffleSplit(n_splits=VAL_SPLITS,test_size=0.15,random_state=0)\n",
    "clf = AdaBoostClassifier()\n",
    "\n",
    "metrics = []\n",
    "metrics_train = []\n",
    "df_ = df[['Class','V4','V14','V16','V17','V18','TimeSin','AmountBC']]\n",
    "X = df_.drop(columns='Class').to_numpy()\n",
    "y = df_['Class'].to_numpy()\n",
    "for i,(idx_t, idx_v) in enumerate(val_split.split(X,y)):\n",
    "    X_train = X[idx_t]\n",
    "    y_train = y[idx_t]\n",
    "    X_val = X[idx_v]\n",
    "    y_val = y[idx_v]\n",
    "    \n",
    "    clf.fit(X_train,y_train)\n",
    "    \n",
    "    y_pred = clf.predict(X_val)\n",
    "    metric = f1_score(y_val,y_pred)\n",
    "    metrics.append(metric)\n",
    "    \n",
    "    y_t_pred = clf.predict(X_train)\n",
    "    metric_train = f1_score(y_train,y_t_pred)\n",
    "    metrics_train.append(metric_train)\n",
    "    \n",
    "    print('{}-fold / {} completed!'.format(i+1,VAL_SPLITS))\n",
    "metric_mean = np.mean(metrics)\n",
    "metric_std = np.std(metrics, ddof=1)\n",
    "metric_t_mean = np.mean(metrics_train)\n",
    "metric_t_std = np.std(metrics_train, ddof=1)\n",
    "print('Metric value (Train): {:.2f} ± {:.2f}'.format(metric_t_mean,metric_t_std))\n",
    "print('Metric value(Val): {:.2f} ± {:.2f}'.format(metric_mean,metric_std))"
   ]
  },
  {
   "cell_type": "code",
   "execution_count": 80,
   "metadata": {
    "ExecuteTime": {
     "end_time": "2019-06-11T16:41:16.595261Z",
     "start_time": "2019-06-11T16:40:58.154785Z"
    }
   },
   "outputs": [
    {
     "name": "stdout",
     "output_type": "stream",
     "text": [
      "1-fold / 4 completed!\n",
      "2-fold / 4 completed!\n",
      "3-fold / 4 completed!\n",
      "4-fold / 4 completed!\n",
      "Metric value (Train): 1.00 ± 0.00\n",
      "Metric value(Val): 0.81 ± 0.06\n"
     ]
    }
   ],
   "source": [
    "val_split = StratifiedShuffleSplit(n_splits=VAL_SPLITS,test_size=0.15,random_state=0)\n",
    "clf = ExtraTreesClassifier(n_estimators=50,n_jobs=-1,random_state=0)\n",
    "\n",
    "metrics = []\n",
    "metrics_train = []\n",
    "df_ = df[['Class','V4','V14','V16','V17','V18','TimeSin','AmountBC']]\n",
    "X = df_.drop(columns='Class').to_numpy()\n",
    "y = df_['Class'].to_numpy()\n",
    "for i,(idx_t, idx_v) in enumerate(val_split.split(X,y)):\n",
    "    X_train = X[idx_t]\n",
    "    y_train = y[idx_t]\n",
    "    X_val = X[idx_v]\n",
    "    y_val = y[idx_v]\n",
    "    \n",
    "    clf.fit(X_train,y_train)\n",
    "    \n",
    "    y_pred = clf.predict(X_val)\n",
    "    metric = f1_score(y_val,y_pred)\n",
    "    metrics.append(metric)\n",
    "    \n",
    "    y_t_pred = clf.predict(X_train)\n",
    "    metric_train = f1_score(y_train,y_t_pred)\n",
    "    metrics_train.append(metric_train)\n",
    "    \n",
    "    print('{}-fold / {} completed!'.format(i+1,VAL_SPLITS))\n",
    "metric_mean = np.mean(metrics)\n",
    "metric_std = np.std(metrics, ddof=1)\n",
    "metric_t_mean = np.mean(metrics_train)\n",
    "metric_t_std = np.std(metrics_train, ddof=1)\n",
    "print('Metric value (Train): {:.2f} ± {:.2f}'.format(metric_t_mean,metric_t_std))\n",
    "print('Metric value(Val): {:.2f} ± {:.2f}'.format(metric_mean,metric_std))"
   ]
  },
  {
   "cell_type": "code",
   "execution_count": 81,
   "metadata": {
    "ExecuteTime": {
     "end_time": "2019-06-11T16:51:06.323227Z",
     "start_time": "2019-06-11T16:50:13.450608Z"
    }
   },
   "outputs": [
    {
     "name": "stdout",
     "output_type": "stream",
     "text": [
      "1-fold / 4 completed!\n",
      "2-fold / 4 completed!\n",
      "3-fold / 4 completed!\n",
      "4-fold / 4 completed!\n",
      "Metric value (Train): 1.00 ± 0.00\n",
      "Metric value(Val): 0.82 ± 0.04\n"
     ]
    }
   ],
   "source": [
    "val_split = StratifiedShuffleSplit(n_splits=VAL_SPLITS,test_size=0.15,random_state=0)\n",
    "clf = ExtraTreesClassifier(n_estimators=50,n_jobs=-1,random_state=0)\n",
    "\n",
    "metrics = []\n",
    "metrics_train = []\n",
    "df_ = df\n",
    "X = df_.drop(columns='Class').to_numpy()\n",
    "y = df_['Class'].to_numpy()\n",
    "for i,(idx_t, idx_v) in enumerate(val_split.split(X,y)):\n",
    "    X_train = X[idx_t]\n",
    "    y_train = y[idx_t]\n",
    "    X_val = X[idx_v]\n",
    "    y_val = y[idx_v]\n",
    "    \n",
    "    clf.fit(X_train,y_train)\n",
    "    \n",
    "    y_pred = clf.predict(X_val)\n",
    "    metric = f1_score(y_val,y_pred)\n",
    "    metrics.append(metric)\n",
    "    \n",
    "    y_t_pred = clf.predict(X_train)\n",
    "    metric_train = f1_score(y_train,y_t_pred)\n",
    "    metrics_train.append(metric_train)\n",
    "    \n",
    "    print('{}-fold / {} completed!'.format(i+1,VAL_SPLITS))\n",
    "metric_mean = np.mean(metrics)\n",
    "metric_std = np.std(metrics, ddof=1)\n",
    "metric_t_mean = np.mean(metrics_train)\n",
    "metric_t_std = np.std(metrics_train, ddof=1)\n",
    "print('Metric value (Train): {:.2f} ± {:.2f}'.format(metric_t_mean,metric_t_std))\n",
    "print('Metric value(Val): {:.2f} ± {:.2f}'.format(metric_mean,metric_std))"
   ]
  },
  {
   "cell_type": "code",
   "execution_count": 84,
   "metadata": {
    "ExecuteTime": {
     "end_time": "2019-06-11T16:56:38.091940Z",
     "start_time": "2019-06-11T16:55:08.189553Z"
    }
   },
   "outputs": [
    {
     "name": "stdout",
     "output_type": "stream",
     "text": [
      "1-fold / 4 completed!\n",
      "2-fold / 4 completed!\n",
      "3-fold / 4 completed!\n",
      "4-fold / 4 completed!\n",
      "Metric value (Train): 0.79 ± 0.01\n",
      "Metric value(Val): 0.72 ± 0.06\n"
     ]
    }
   ],
   "source": [
    "val_split = StratifiedShuffleSplit(n_splits=VAL_SPLITS,test_size=0.15,random_state=0)\n",
    "clf = ExtraTreesClassifier(n_estimators=150,n_jobs=-1,random_state=0,max_depth=10)\n",
    "\n",
    "metrics = []\n",
    "metrics_train = []\n",
    "df_ = df\n",
    "X = df_.drop(columns='Class').to_numpy()\n",
    "y = df_['Class'].to_numpy()\n",
    "for i,(idx_t, idx_v) in enumerate(val_split.split(X,y)):\n",
    "    X_train = X[idx_t]\n",
    "    y_train = y[idx_t]\n",
    "    X_val = X[idx_v]\n",
    "    y_val = y[idx_v]\n",
    "    \n",
    "    clf.fit(X_train,y_train)\n",
    "    \n",
    "    y_pred = clf.predict(X_val)\n",
    "    metric = f1_score(y_val,y_pred)\n",
    "    metrics.append(metric)\n",
    "    \n",
    "    y_t_pred = clf.predict(X_train)\n",
    "    metric_train = f1_score(y_train,y_t_pred)\n",
    "    metrics_train.append(metric_train)\n",
    "    \n",
    "    print('{}-fold / {} completed!'.format(i+1,VAL_SPLITS))\n",
    "metric_mean = np.mean(metrics)\n",
    "metric_std = np.std(metrics, ddof=1)\n",
    "metric_t_mean = np.mean(metrics_train)\n",
    "metric_t_std = np.std(metrics_train, ddof=1)\n",
    "print('Metric value (Train): {:.2f} ± {:.2f}'.format(metric_t_mean,metric_t_std))\n",
    "print('Metric value(Val): {:.2f} ± {:.2f}'.format(metric_mean,metric_std))"
   ]
  },
  {
   "cell_type": "code",
   "execution_count": 85,
   "metadata": {
    "ExecuteTime": {
     "end_time": "2019-06-11T16:58:32.037833Z",
     "start_time": "2019-06-11T16:56:38.095157Z"
    }
   },
   "outputs": [
    {
     "name": "stdout",
     "output_type": "stream",
     "text": [
      "1-fold / 4 completed!\n",
      "2-fold / 4 completed!\n",
      "3-fold / 4 completed!\n",
      "4-fold / 4 completed!\n",
      "Metric value (Train): 0.73 ± 0.02\n",
      "Metric value(Val): 0.71 ± 0.06\n"
     ]
    }
   ],
   "source": [
    "val_split = StratifiedShuffleSplit(n_splits=VAL_SPLITS,test_size=0.15,random_state=0)\n",
    "clf = RandomForestClassifier(n_estimators=150,n_jobs=-1,random_state=0,max_depth=3)\n",
    "\n",
    "metrics = []\n",
    "metrics_train = []\n",
    "df_ = df\n",
    "X = df_.drop(columns='Class').to_numpy()\n",
    "y = df_['Class'].to_numpy()\n",
    "for i,(idx_t, idx_v) in enumerate(val_split.split(X,y)):\n",
    "    X_train = X[idx_t]\n",
    "    y_train = y[idx_t]\n",
    "    X_val = X[idx_v]\n",
    "    y_val = y[idx_v]\n",
    "    \n",
    "    clf.fit(X_train,y_train)\n",
    "    \n",
    "    y_pred = clf.predict(X_val)\n",
    "    metric = f1_score(y_val,y_pred)\n",
    "    metrics.append(metric)\n",
    "    \n",
    "    y_t_pred = clf.predict(X_train)\n",
    "    metric_train = f1_score(y_train,y_t_pred)\n",
    "    metrics_train.append(metric_train)\n",
    "    \n",
    "    print('{}-fold / {} completed!'.format(i+1,VAL_SPLITS))\n",
    "metric_mean = np.mean(metrics)\n",
    "metric_std = np.std(metrics, ddof=1)\n",
    "metric_t_mean = np.mean(metrics_train)\n",
    "metric_t_std = np.std(metrics_train, ddof=1)\n",
    "print('Metric value (Train): {:.2f} ± {:.2f}'.format(metric_t_mean,metric_t_std))\n",
    "print('Metric value(Val): {:.2f} ± {:.2f}'.format(metric_mean,metric_std))"
   ]
  },
  {
   "cell_type": "code",
   "execution_count": 86,
   "metadata": {
    "ExecuteTime": {
     "end_time": "2019-06-11T16:58:34.963044Z",
     "start_time": "2019-06-11T16:58:34.942170Z"
    }
   },
   "outputs": [],
   "source": [
    "from sklearn.neural_network import MLPClassifier"
   ]
  },
  {
   "cell_type": "code",
   "execution_count": 88,
   "metadata": {
    "ExecuteTime": {
     "end_time": "2019-06-11T17:01:49.040346Z",
     "start_time": "2019-06-11T16:59:16.104788Z"
    }
   },
   "outputs": [
    {
     "name": "stdout",
     "output_type": "stream",
     "text": [
      "1-fold / 4 completed!\n",
      "2-fold / 4 completed!\n",
      "3-fold / 4 completed!\n",
      "4-fold / 4 completed!\n",
      "Metric value (Train): 0.96 ± 0.01\n",
      "Metric value(Val): 0.78 ± 0.05\n"
     ]
    }
   ],
   "source": [
    "val_split = StratifiedShuffleSplit(n_splits=VAL_SPLITS,test_size=0.15,random_state=0)\n",
    "clf = MLPClassifier(solver='lbfgs', alpha=1e-5,\n",
    "                 hidden_layer_sizes=(16,8, 2), random_state=0)\n",
    "scaler = StandardScaler()\n",
    "\n",
    "metrics = []\n",
    "metrics_train = []\n",
    "df_ = df\n",
    "X = df_.drop(columns='Class').to_numpy()\n",
    "y = df_['Class'].to_numpy()\n",
    "for i,(idx_t, idx_v) in enumerate(val_split.split(X,y)):\n",
    "    X_train = X[idx_t]\n",
    "    y_train = y[idx_t]\n",
    "    X_val = X[idx_v]\n",
    "    y_val = y[idx_v]\n",
    "    \n",
    "    scaler.fit(X_train)\n",
    "    X_train = scaler.transform(X_train)\n",
    "    X_val = scaler.transform(X_val)\n",
    "    \n",
    "    clf.fit(X_train,y_train)\n",
    "    \n",
    "    y_pred = clf.predict(X_val)\n",
    "    metric = f1_score(y_val,y_pred)\n",
    "    metrics.append(metric)\n",
    "    \n",
    "    y_t_pred = clf.predict(X_train)\n",
    "    metric_train = f1_score(y_train,y_t_pred)\n",
    "    metrics_train.append(metric_train)\n",
    "    \n",
    "    print('{}-fold / {} completed!'.format(i+1,VAL_SPLITS))\n",
    "metric_mean = np.mean(metrics)\n",
    "metric_std = np.std(metrics, ddof=1)\n",
    "metric_t_mean = np.mean(metrics_train)\n",
    "metric_t_std = np.std(metrics_train, ddof=1)\n",
    "print('Metric value (Train): {:.2f} ± {:.2f}'.format(metric_t_mean,metric_t_std))\n",
    "print('Metric value(Val): {:.2f} ± {:.2f}'.format(metric_mean,metric_std))"
   ]
  },
  {
   "cell_type": "code",
   "execution_count": 90,
   "metadata": {
    "ExecuteTime": {
     "end_time": "2019-06-11T17:03:11.844194Z",
     "start_time": "2019-06-11T17:02:20.346079Z"
    }
   },
   "outputs": [
    {
     "name": "stdout",
     "output_type": "stream",
     "text": [
      "1-fold / 4 completed!\n",
      "2-fold / 4 completed!\n",
      "3-fold / 4 completed!\n",
      "4-fold / 4 completed!\n",
      "Metric value (Train): 0.74 ± 0.25\n",
      "Metric value(Val): 0.75 ± 0.19\n"
     ]
    }
   ],
   "source": [
    "val_split = StratifiedShuffleSplit(n_splits=VAL_SPLITS,test_size=0.15,random_state=0)\n",
    "clf = MLPClassifier(solver='lbfgs', alpha=1e-3,\n",
    "                 hidden_layer_sizes=(8,4,2), random_state=0)\n",
    "scaler = StandardScaler()\n",
    "\n",
    "metrics = []\n",
    "metrics_train = []\n",
    "df_ = df\n",
    "X = df_.drop(columns='Class').to_numpy()\n",
    "y = df_['Class'].to_numpy()\n",
    "for i,(idx_t, idx_v) in enumerate(val_split.split(X,y)):\n",
    "    X_train = X[idx_t]\n",
    "    y_train = y[idx_t]\n",
    "    X_val = X[idx_v]\n",
    "    y_val = y[idx_v]\n",
    "    \n",
    "    scaler.fit(X_train)\n",
    "    X_train = scaler.transform(X_train)\n",
    "    X_val = scaler.transform(X_val)\n",
    "    clf.fit(X_train,y_train)\n",
    "    \n",
    "    y_pred = clf.predict(X_val)\n",
    "    metric = f1_score(y_val,y_pred)\n",
    "    metrics.append(metric)\n",
    "    \n",
    "    y_t_pred = clf.predict(X_train)\n",
    "    metric_train = f1_score(y_train,y_t_pred)\n",
    "    metrics_train.append(metric_train)\n",
    "    \n",
    "    print('{}-fold / {} completed!'.format(i+1,VAL_SPLITS))\n",
    "metric_mean = np.mean(metrics)\n",
    "metric_std = np.std(metrics, ddof=1)\n",
    "metric_t_mean = np.mean(metrics_train)\n",
    "metric_t_std = np.std(metrics_train, ddof=1)\n",
    "print('Metric value (Train): {:.2f} ± {:.2f}'.format(metric_t_mean,metric_t_std))\n",
    "print('Metric value(Val): {:.2f} ± {:.2f}'.format(metric_mean,metric_std))"
   ]
  },
  {
   "cell_type": "code",
   "execution_count": 93,
   "metadata": {
    "ExecuteTime": {
     "end_time": "2019-06-11T17:06:14.653312Z",
     "start_time": "2019-06-11T17:04:16.343520Z"
    }
   },
   "outputs": [
    {
     "name": "stdout",
     "output_type": "stream",
     "text": [
      "1-fold / 4 completed!\n",
      "2-fold / 4 completed!\n",
      "3-fold / 4 completed!\n",
      "4-fold / 4 completed!\n",
      "Metric value (Train): 0.97 ± 0.01\n",
      "Metric value(Val): 0.79 ± 0.04\n"
     ]
    }
   ],
   "source": [
    "val_split = StratifiedShuffleSplit(n_splits=VAL_SPLITS,test_size=0.15,random_state=0)\n",
    "clf = MLPClassifier(solver='lbfgs', alpha=1e-5,\n",
    "                 hidden_layer_sizes=(16,8,2), random_state=0)\n",
    "scaler = StandardScaler()\n",
    "\n",
    "metrics = []\n",
    "metrics_train = []\n",
    "df_ = df\n",
    "X = df_.drop(columns='Class').to_numpy()\n",
    "y = df_['Class'].to_numpy()\n",
    "for i,(idx_t, idx_v) in enumerate(val_split.split(X,y)):\n",
    "    X_train = X[idx_t]\n",
    "    y_train = y[idx_t]\n",
    "    X_val = X[idx_v]\n",
    "    y_val = y[idx_v]\n",
    "    \n",
    "    scaler.fit(X_train)\n",
    "    X_train = scaler.transform(X_train)\n",
    "    X_val = scaler.transform(X_val)\n",
    "    clf.fit(X_train,y_train)\n",
    "    \n",
    "    y_pred = clf.predict(X_val)\n",
    "    metric = f1_score(y_val,y_pred)\n",
    "    metrics.append(metric)\n",
    "    \n",
    "    y_t_pred = clf.predict(X_train)\n",
    "    metric_train = f1_score(y_train,y_t_pred)\n",
    "    metrics_train.append(metric_train)\n",
    "    \n",
    "    print('{}-fold / {} completed!'.format(i+1,VAL_SPLITS))\n",
    "metric_mean = np.mean(metrics)\n",
    "metric_std = np.std(metrics, ddof=1)\n",
    "metric_t_mean = np.mean(metrics_train)\n",
    "metric_t_std = np.std(metrics_train, ddof=1)\n",
    "print('Metric value (Train): {:.2f} ± {:.2f}'.format(metric_t_mean,metric_t_std))\n",
    "print('Metric value(Val): {:.2f} ± {:.2f}'.format(metric_mean,metric_std))"
   ]
  },
  {
   "cell_type": "code",
   "execution_count": null,
   "metadata": {},
   "outputs": [],
   "source": []
  }
 ],
 "metadata": {
  "kernelspec": {
   "display_name": "Python 3",
   "language": "python",
   "name": "python3"
  },
  "language_info": {
   "codemirror_mode": {
    "name": "ipython",
    "version": 3
   },
   "file_extension": ".py",
   "mimetype": "text/x-python",
   "name": "python",
   "nbconvert_exporter": "python",
   "pygments_lexer": "ipython3",
   "version": "3.6.8"
  },
  "toc": {
   "base_numbering": 1,
   "nav_menu": {},
   "number_sections": true,
   "sideBar": true,
   "skip_h1_title": false,
   "title_cell": "Table of Contents",
   "title_sidebar": "Contents",
   "toc_cell": false,
   "toc_position": {},
   "toc_section_display": true,
   "toc_window_display": false
  }
 },
 "nbformat": 4,
 "nbformat_minor": 2
}
