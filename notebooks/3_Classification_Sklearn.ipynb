{
 "cells": [
  {
   "cell_type": "markdown",
   "metadata": {},
   "source": [
    "# Classification with Cross Validation (CV) using sklearn"
   ]
  },
  {
   "cell_type": "markdown",
   "metadata": {},
   "source": [
    "The first problem we have to attack is to define a metric we want to maximize (or minimize if it is a loss), and we will use it to select the best (or bests) models and hyperparameters. In order to understand the mechanism, we will code the validation loop by hand, and then we will use sklearn functions which do it automatically.\n",
    "\n",
    "Although we are only interested in the metric on the validation set, it is interesting to compare it with the metric on the training set, to check the presence of overfitting."
   ]
  },
  {
   "cell_type": "code",
   "execution_count": 3,
   "metadata": {
    "ExecuteTime": {
     "end_time": "2019-06-13T22:25:00.534255Z",
     "start_time": "2019-06-13T22:25:00.444259Z"
    }
   },
   "outputs": [],
   "source": [
    "%load_ext autoreload\n",
    "%autoreload 2"
   ]
  },
  {
   "cell_type": "code",
   "execution_count": 4,
   "metadata": {
    "ExecuteTime": {
     "end_time": "2019-06-13T22:25:07.356338Z",
     "start_time": "2019-06-13T22:25:01.197251Z"
    }
   },
   "outputs": [
    {
     "name": "stderr",
     "output_type": "stream",
     "text": [
      "/Users/danky/anaconda3/envs/fraud_credit/lib/python3.6/importlib/_bootstrap.py:219: RuntimeWarning: numpy.ufunc size changed, may indicate binary incompatibility. Expected 216, got 192\n",
      "  return f(*args, **kwds)\n",
      "/Users/danky/anaconda3/envs/fraud_credit/lib/python3.6/importlib/_bootstrap.py:219: RuntimeWarning: numpy.ufunc size changed, may indicate binary incompatibility. Expected 216, got 192\n",
      "  return f(*args, **kwds)\n",
      "/Users/danky/anaconda3/envs/fraud_credit/lib/python3.6/importlib/_bootstrap.py:219: RuntimeWarning: numpy.ufunc size changed, may indicate binary incompatibility. Expected 192 from C header, got 216 from PyObject\n",
      "  return f(*args, **kwds)\n"
     ]
    }
   ],
   "source": [
    "import pandas as pd\n",
    "import matplotlib.pyplot as plt\n",
    "import seaborn as sns\n",
    "import numpy as np\n",
    "import os\n",
    "import scipy\n",
    "import sklearn\n",
    "# plt.style.use('fivethirtyeight')\n",
    "sns.set_style(\"whitegrid\")\n",
    "sns.set_context(\"notebook\")\n",
    "DATA_PATH = '../data/'\n",
    "\n",
    "VAL_SPLITS = 4"
   ]
  },
  {
   "cell_type": "code",
   "execution_count": 5,
   "metadata": {
    "ExecuteTime": {
     "end_time": "2019-06-13T22:25:07.674455Z",
     "start_time": "2019-06-13T22:25:07.362236Z"
    }
   },
   "outputs": [],
   "source": [
    "from plot_utils import plot_confusion_matrix\n",
    "from cv_utils import run_cv_f1\n",
    "from cv_utils import plot_cv_roc\n",
    "from cv_utils import plot_cv_roc_prc"
   ]
  },
  {
   "cell_type": "code",
   "execution_count": 39,
   "metadata": {
    "ExecuteTime": {
     "end_time": "2019-06-13T22:51:37.244284Z",
     "start_time": "2019-06-13T22:51:37.207219Z"
    }
   },
   "outputs": [],
   "source": [
    "from sklearn.model_selection import StratifiedShuffleSplit\n",
    "from sklearn.metrics import f1_score\n",
    "from sklearn.pipeline import make_pipeline\n",
    "from sklearn.preprocessing import MinMaxScaler\n",
    "from sklearn.preprocessing import StandardScaler\n",
    "\n",
    "\n",
    "from sklearn.linear_model import LogisticRegression\n",
    "\n",
    "from sklearn.ensemble import RandomForestClassifier\n",
    "from sklearn.ensemble import AdaBoostClassifier\n",
    "from sklearn.preprocessing import StandardScaler\n",
    "from sklearn.neighbors import KNeighborsClassifier\n",
    "from sklearn.ensemble import ExtraTreesClassifier\n",
    "from sklearn.neural_network import MLPClassifier\n",
    "# Experimental: Based on LightGMB https://github.com/Microsoft/LightGBM\n",
    "from sklearn.experimental import enable_hist_gradient_boosting\n",
    "from sklearn.ensemble import HistGradientBoostingClassifier\n",
    "\n",
    "\n",
    "from sklearn_utils import FeatureSelectorDic"
   ]
  },
  {
   "cell_type": "markdown",
   "metadata": {},
   "source": [
    "For this part of the project, we will only work with the training set, that we will split again into train and validation to perform the hyperparameter tuning.\n",
    "\n",
    "We will save the test set for the final part, when we have already tuned our hyperparameters."
   ]
  },
  {
   "cell_type": "code",
   "execution_count": 18,
   "metadata": {
    "ExecuteTime": {
     "end_time": "2019-06-13T22:38:56.321812Z",
     "start_time": "2019-06-13T22:38:52.516982Z"
    }
   },
   "outputs": [
    {
     "data": {
      "text/html": [
       "<div>\n",
       "<style scoped>\n",
       "    .dataframe tbody tr th:only-of-type {\n",
       "        vertical-align: middle;\n",
       "    }\n",
       "\n",
       "    .dataframe tbody tr th {\n",
       "        vertical-align: top;\n",
       "    }\n",
       "\n",
       "    .dataframe thead th {\n",
       "        text-align: right;\n",
       "    }\n",
       "</style>\n",
       "<table border=\"1\" class=\"dataframe\">\n",
       "  <thead>\n",
       "    <tr style=\"text-align: right;\">\n",
       "      <th></th>\n",
       "      <th>V1</th>\n",
       "      <th>V2</th>\n",
       "      <th>V3</th>\n",
       "      <th>V4</th>\n",
       "      <th>V5</th>\n",
       "      <th>V6</th>\n",
       "      <th>V7</th>\n",
       "      <th>V8</th>\n",
       "      <th>V9</th>\n",
       "      <th>V10</th>\n",
       "      <th>...</th>\n",
       "      <th>V24</th>\n",
       "      <th>V25</th>\n",
       "      <th>V26</th>\n",
       "      <th>V27</th>\n",
       "      <th>V28</th>\n",
       "      <th>Class</th>\n",
       "      <th>TimeScaled</th>\n",
       "      <th>TimeSin</th>\n",
       "      <th>TimeCos</th>\n",
       "      <th>AmountBC</th>\n",
       "    </tr>\n",
       "  </thead>\n",
       "  <tbody>\n",
       "    <tr>\n",
       "      <th>0</th>\n",
       "      <td>-0.829392</td>\n",
       "      <td>1.118573</td>\n",
       "      <td>0.926038</td>\n",
       "      <td>1.163686</td>\n",
       "      <td>0.009824</td>\n",
       "      <td>0.527347</td>\n",
       "      <td>0.173370</td>\n",
       "      <td>0.723997</td>\n",
       "      <td>-0.638939</td>\n",
       "      <td>-0.162923</td>\n",
       "      <td>...</td>\n",
       "      <td>-0.298908</td>\n",
       "      <td>-0.060301</td>\n",
       "      <td>-0.217935</td>\n",
       "      <td>0.291312</td>\n",
       "      <td>0.120779</td>\n",
       "      <td>0</td>\n",
       "      <td>0.460069</td>\n",
       "      <td>-0.480989</td>\n",
       "      <td>0.876727</td>\n",
       "      <td>3.195062</td>\n",
       "    </tr>\n",
       "    <tr>\n",
       "      <th>1</th>\n",
       "      <td>-2.814527</td>\n",
       "      <td>1.613321</td>\n",
       "      <td>0.654307</td>\n",
       "      <td>0.581821</td>\n",
       "      <td>0.399491</td>\n",
       "      <td>0.730040</td>\n",
       "      <td>0.456233</td>\n",
       "      <td>-2.464347</td>\n",
       "      <td>0.654797</td>\n",
       "      <td>2.248682</td>\n",
       "      <td>...</td>\n",
       "      <td>-0.329526</td>\n",
       "      <td>-0.307374</td>\n",
       "      <td>-0.440007</td>\n",
       "      <td>-2.135657</td>\n",
       "      <td>0.011041</td>\n",
       "      <td>0</td>\n",
       "      <td>0.266395</td>\n",
       "      <td>-0.204567</td>\n",
       "      <td>-0.978853</td>\n",
       "      <td>3.125269</td>\n",
       "    </tr>\n",
       "    <tr>\n",
       "      <th>2</th>\n",
       "      <td>2.105028</td>\n",
       "      <td>-0.700400</td>\n",
       "      <td>-1.338043</td>\n",
       "      <td>-0.596395</td>\n",
       "      <td>-0.395217</td>\n",
       "      <td>-0.755050</td>\n",
       "      <td>-0.276951</td>\n",
       "      <td>-0.291562</td>\n",
       "      <td>-0.965418</td>\n",
       "      <td>1.107179</td>\n",
       "      <td>...</td>\n",
       "      <td>-0.278137</td>\n",
       "      <td>-0.040685</td>\n",
       "      <td>0.789267</td>\n",
       "      <td>-0.066054</td>\n",
       "      <td>-0.069956</td>\n",
       "      <td>0</td>\n",
       "      <td>0.762303</td>\n",
       "      <td>-0.153992</td>\n",
       "      <td>-0.988072</td>\n",
       "      <td>3.421235</td>\n",
       "    </tr>\n",
       "    <tr>\n",
       "      <th>3</th>\n",
       "      <td>2.205839</td>\n",
       "      <td>-1.023897</td>\n",
       "      <td>-1.270137</td>\n",
       "      <td>-0.950174</td>\n",
       "      <td>-0.868712</td>\n",
       "      <td>-0.975492</td>\n",
       "      <td>-0.475464</td>\n",
       "      <td>-0.280564</td>\n",
       "      <td>0.503713</td>\n",
       "      <td>0.448173</td>\n",
       "      <td>...</td>\n",
       "      <td>-0.041177</td>\n",
       "      <td>0.089158</td>\n",
       "      <td>1.105794</td>\n",
       "      <td>-0.066285</td>\n",
       "      <td>-0.079881</td>\n",
       "      <td>0</td>\n",
       "      <td>0.879740</td>\n",
       "      <td>-0.998227</td>\n",
       "      <td>0.059524</td>\n",
       "      <td>1.072145</td>\n",
       "    </tr>\n",
       "    <tr>\n",
       "      <th>4</th>\n",
       "      <td>2.027090</td>\n",
       "      <td>-0.778666</td>\n",
       "      <td>-1.552755</td>\n",
       "      <td>-0.558679</td>\n",
       "      <td>0.020939</td>\n",
       "      <td>-0.026071</td>\n",
       "      <td>-0.207810</td>\n",
       "      <td>-0.124288</td>\n",
       "      <td>-0.635953</td>\n",
       "      <td>0.817757</td>\n",
       "      <td>...</td>\n",
       "      <td>0.033477</td>\n",
       "      <td>-0.157992</td>\n",
       "      <td>-0.606327</td>\n",
       "      <td>-0.003931</td>\n",
       "      <td>-0.039868</td>\n",
       "      <td>0</td>\n",
       "      <td>0.821649</td>\n",
       "      <td>-0.783558</td>\n",
       "      <td>-0.621319</td>\n",
       "      <td>3.971490</td>\n",
       "    </tr>\n",
       "  </tbody>\n",
       "</table>\n",
       "<p>5 rows × 33 columns</p>\n",
       "</div>"
      ],
      "text/plain": [
       "         V1        V2        V3        V4        V5        V6        V7  \\\n",
       "0 -0.829392  1.118573  0.926038  1.163686  0.009824  0.527347  0.173370   \n",
       "1 -2.814527  1.613321  0.654307  0.581821  0.399491  0.730040  0.456233   \n",
       "2  2.105028 -0.700400 -1.338043 -0.596395 -0.395217 -0.755050 -0.276951   \n",
       "3  2.205839 -1.023897 -1.270137 -0.950174 -0.868712 -0.975492 -0.475464   \n",
       "4  2.027090 -0.778666 -1.552755 -0.558679  0.020939 -0.026071 -0.207810   \n",
       "\n",
       "         V8        V9       V10  ...       V24       V25       V26       V27  \\\n",
       "0  0.723997 -0.638939 -0.162923  ... -0.298908 -0.060301 -0.217935  0.291312   \n",
       "1 -2.464347  0.654797  2.248682  ... -0.329526 -0.307374 -0.440007 -2.135657   \n",
       "2 -0.291562 -0.965418  1.107179  ... -0.278137 -0.040685  0.789267 -0.066054   \n",
       "3 -0.280564  0.503713  0.448173  ... -0.041177  0.089158  1.105794 -0.066285   \n",
       "4 -0.124288 -0.635953  0.817757  ...  0.033477 -0.157992 -0.606327 -0.003931   \n",
       "\n",
       "        V28  Class  TimeScaled   TimeSin   TimeCos  AmountBC  \n",
       "0  0.120779      0    0.460069 -0.480989  0.876727  3.195062  \n",
       "1  0.011041      0    0.266395 -0.204567 -0.978853  3.125269  \n",
       "2 -0.069956      0    0.762303 -0.153992 -0.988072  3.421235  \n",
       "3 -0.079881      0    0.879740 -0.998227  0.059524  1.072145  \n",
       "4 -0.039868      0    0.821649 -0.783558 -0.621319  3.971490  \n",
       "\n",
       "[5 rows x 33 columns]"
      ]
     },
     "execution_count": 18,
     "metadata": {},
     "output_type": "execute_result"
    }
   ],
   "source": [
    "df = pd.read_csv(os.path.join(DATA_PATH,'df_train.csv'))\n",
    "df.drop(columns= df.columns[0:2],inplace=True)\n",
    "X = df.drop(columns='Class').to_numpy()\n",
    "y = df['Class'].to_numpy()\n",
    "idx_to_feat = dict(enumerate([feat for feat in df.drop(columns='Class').columns ]))\n",
    "feat_to_idx = {feat : idx for idx,feat in idx_to_feat.items()}\n",
    "del(idx_to_feat)\n",
    "df.head()"
   ]
  },
  {
   "cell_type": "code",
   "execution_count": 9,
   "metadata": {
    "ExecuteTime": {
     "end_time": "2019-06-13T22:25:30.961764Z",
     "start_time": "2019-06-13T22:25:30.919693Z"
    }
   },
   "outputs": [],
   "source": [
    "# We set the CV in order to apply the same one to all algorithms\n",
    "cv = StratifiedShuffleSplit(n_splits=VAL_SPLITS,test_size=0.15,random_state=0)"
   ]
  },
  {
   "cell_type": "markdown",
   "metadata": {
    "heading_collapsed": true
   },
   "source": [
    "## Manual cross validation (Exercise, built the CV loop)\n",
    "\n",
    "We can do it manually, although it is better to define a function to help us iterate the CV over different algorithms and hyperparameters. It is more convenient to create a function, which is `run_cv_f1`"
   ]
  },
  {
   "cell_type": "markdown",
   "metadata": {
    "hidden": true
   },
   "source": [
    "This is a typical CV loop, built from scratch"
   ]
  },
  {
   "cell_type": "code",
   "execution_count": 6,
   "metadata": {
    "ExecuteTime": {
     "end_time": "2019-06-12T10:37:38.812060Z",
     "start_time": "2019-06-12T10:36:33.734878Z"
    },
    "hidden": true
   },
   "outputs": [
    {
     "name": "stderr",
     "output_type": "stream",
     "text": [
      "/Users/danky/anaconda3/envs/fraud_credit/lib/python3.6/site-packages/sklearn/linear_model/sag.py:337: ConvergenceWarning: The max_iter was reached which means the coef_ did not converge\n",
      "  \"the coef_ did not converge\", ConvergenceWarning)\n"
     ]
    },
    {
     "name": "stdout",
     "output_type": "stream",
     "text": [
      "1-fold / 4 completed!\n"
     ]
    },
    {
     "name": "stderr",
     "output_type": "stream",
     "text": [
      "/Users/danky/anaconda3/envs/fraud_credit/lib/python3.6/site-packages/sklearn/linear_model/sag.py:337: ConvergenceWarning: The max_iter was reached which means the coef_ did not converge\n",
      "  \"the coef_ did not converge\", ConvergenceWarning)\n"
     ]
    },
    {
     "name": "stdout",
     "output_type": "stream",
     "text": [
      "2-fold / 4 completed!\n"
     ]
    },
    {
     "name": "stderr",
     "output_type": "stream",
     "text": [
      "/Users/danky/anaconda3/envs/fraud_credit/lib/python3.6/site-packages/sklearn/linear_model/sag.py:337: ConvergenceWarning: The max_iter was reached which means the coef_ did not converge\n",
      "  \"the coef_ did not converge\", ConvergenceWarning)\n"
     ]
    },
    {
     "name": "stdout",
     "output_type": "stream",
     "text": [
      "3-fold / 4 completed!\n",
      "4-fold / 4 completed!\n",
      "Metric value (Train): 0.67 ± 0.01\n",
      "Metric value(Val): 0.69 ± 0.04\n"
     ]
    },
    {
     "name": "stderr",
     "output_type": "stream",
     "text": [
      "/Users/danky/anaconda3/envs/fraud_credit/lib/python3.6/site-packages/sklearn/linear_model/sag.py:337: ConvergenceWarning: The max_iter was reached which means the coef_ did not converge\n",
      "  \"the coef_ did not converge\", ConvergenceWarning)\n"
     ]
    }
   ],
   "source": [
    "clf = LogisticRegression(solver='sag',random_state=0,n_jobs=-1)\n",
    "\n",
    "# We create two eampty lists to save the metrics at each fold for train and validation. \n",
    "metrics = []\n",
    "metrics_train = []\n",
    "# Loop over the different validation folds\n",
    "for i,(idx_t, idx_v) in enumerate(cv.split(X,y)):\n",
    "    X_train = X[idx_t]\n",
    "    y_train = y[idx_t]\n",
    "    X_val = X[idx_v]\n",
    "    y_val = y[idx_v]\n",
    "    \n",
    "    clf.fit(X_train,y_train)\n",
    "    \n",
    "    y_pred = clf.predict(X_val)\n",
    "    metric = f1_score(y_val,y_pred)\n",
    "    metrics.append(metric)\n",
    "    \n",
    "    y_t_pred = clf.predict(X_train)\n",
    "    metric_train = f1_score(y_train,y_t_pred)\n",
    "    metrics_train.append(metric_train)\n",
    "    \n",
    "    print('{}-fold / {} completed!'.format(i+1,VAL_SPLITS))\n",
    "    \n",
    "metric_mean = np.mean(metrics)\n",
    "metric_std = np.std(metrics, ddof=1)\n",
    "metric_t_mean = np.mean(metrics_train)\n",
    "metric_t_std = np.std(metrics_train, ddof=1)\n",
    "print('Metric value (Train): {:.2f} ± {:.2f}'.format(metric_t_mean,metric_t_std))\n",
    "print('Metric value(Val): {:.2f} ± {:.2f}'.format(metric_mean,metric_std))"
   ]
  },
  {
   "cell_type": "markdown",
   "metadata": {
    "hidden": true
   },
   "source": [
    "The same code can be casted in the form of a function, `run_cv_f1`, which can be found in `cv_utils.py`"
   ]
  },
  {
   "cell_type": "code",
   "execution_count": 20,
   "metadata": {
    "ExecuteTime": {
     "end_time": "2019-06-13T22:40:02.036987Z",
     "start_time": "2019-06-13T22:39:51.732219Z"
    },
    "hidden": true
   },
   "outputs": [
    {
     "name": "stdout",
     "output_type": "stream",
     "text": [
      "1-fold / 4 completed!\n",
      "2-fold / 4 completed!\n",
      "3-fold / 4 completed!\n",
      "4-fold / 4 completed!\n",
      "F1 value (Train): 0.61 ± 0.01\n",
      "F1 value (Val): 0.63 ± 0.06\n"
     ]
    }
   ],
   "source": [
    "feat_sel = FeatureSelectorDic(['V12','AmountBC','V16','V9'],feat_to_idx)\n",
    "clf_ = LogisticRegression(solver='sag',random_state=0,n_jobs=-1)\n",
    "clf = make_pipeline(feat_sel,clf_)\n",
    "\n",
    "scores = run_cv_f1(clf,cv,X,y)"
   ]
  },
  {
   "cell_type": "markdown",
   "metadata": {
    "heading_collapsed": true
   },
   "source": [
    "## Study of the metrics: Confusion matrix, ROC Curve, Precision Recall Curve"
   ]
  },
  {
   "cell_type": "code",
   "execution_count": 21,
   "metadata": {
    "ExecuteTime": {
     "end_time": "2019-06-13T22:40:54.760181Z",
     "start_time": "2019-06-13T22:40:42.057643Z"
    },
    "hidden": true
   },
   "outputs": [
    {
     "name": "stdout",
     "output_type": "stream",
     "text": [
      "Confusion matrix (Counts)\n",
      "[[36110     6]\n",
      " [   31    29]]\n",
      "Normalized confusion matrix\n",
      "[[9.99833869e-01 1.66131355e-04]\n",
      " [5.16666667e-01 4.83333333e-01]]\n",
      "Confusion matrix (Counts)\n",
      "[[36111     5]\n",
      " [   33    27]]\n",
      "Normalized confusion matrix\n",
      "[[9.99861557e-01 1.38442795e-04]\n",
      " [5.50000000e-01 4.50000000e-01]]\n",
      "Confusion matrix (Counts)\n",
      "[[36112     4]\n",
      " [   32    28]]\n",
      "Normalized confusion matrix\n",
      "[[9.99889246e-01 1.10754236e-04]\n",
      " [5.33333333e-01 4.66666667e-01]]\n",
      "Confusion matrix (Counts)\n",
      "[[36112     4]\n",
      " [   24    36]]\n",
      "Normalized confusion matrix\n",
      "[[9.99889246e-01 1.10754236e-04]\n",
      " [4.00000000e-01 6.00000000e-01]]\n"
     ]
    },
    {
     "data": {
      "image/png": "[encoded data removed]",
      "text/plain": [
       "<Figure size 432x288 with 2 Axes>"
      ]
     },
     "metadata": {
      "needs_background": "light"
     },
     "output_type": "display_data"
    },
    {
     "data": {
      "image/png": "[encoded data removed]",
      "text/plain": [
       "<Figure size 432x288 with 2 Axes>"
      ]
     },
     "metadata": {
      "needs_background": "light"
     },
     "output_type": "display_data"
    },
    {
     "data": {
      "image/png": "[encoded data removed]",
      "text/plain": [
       "<Figure size 432x288 with 2 Axes>"
      ]
     },
     "metadata": {
      "needs_background": "light"
     },
     "output_type": "display_data"
    },
    {
     "data": {
      "image/png": "[encoded data removed]",
      "text/plain": [
       "<Figure size 432x288 with 2 Axes>"
      ]
     },
     "metadata": {
      "needs_background": "light"
     },
     "output_type": "display_data"
    },
    {
     "data": {
      "image/png": "[encoded data removed]",
      "text/plain": [
       "<Figure size 432x288 with 2 Axes>"
      ]
     },
     "metadata": {
      "needs_background": "light"
     },
     "output_type": "display_data"
    },
    {
     "data": {
      "image/png": "[encoded data removed]",
      "text/plain": [
       "<Figure size 432x288 with 2 Axes>"
      ]
     },
     "metadata": {
      "needs_background": "light"
     },
     "output_type": "display_data"
    },
    {
     "data": {
      "image/png": "[encoded data removed]",
      "text/plain": [
       "<Figure size 432x288 with 2 Axes>"
      ]
     },
     "metadata": {
      "needs_background": "light"
     },
     "output_type": "display_data"
    },
    {
     "data": {
      "image/png": "[encoded data removed]",
      "text/plain": [
       "<Figure size 432x288 with 2 Axes>"
      ]
     },
     "metadata": {
      "needs_background": "light"
     },
     "output_type": "display_data"
    }
   ],
   "source": [
    "feat_sel = FeatureSelectorDic(['V12','AmountBC','V16','V9'],feat_to_idx)\n",
    "clf_ = LogisticRegression(solver='sag',random_state=0,n_jobs=-1)\n",
    "clf = make_pipeline(feat_sel,clf_)\n",
    "\n",
    "for idx_train, idx_val in cv.split(X,y):\n",
    "    clf.fit(X[idx_train],y[idx_train])\n",
    "    y_pred = clf.predict(X[idx_val])\n",
    "\n",
    "    plot_confusion_matrix(y[idx_val],y_pred,labels=['Normal','Fraud'])\n",
    "    plot_confusion_matrix(y[idx_val],y_pred,labels=['Normal','Fraud'],normalize=True)"
   ]
  },
  {
   "cell_type": "code",
   "execution_count": 22,
   "metadata": {
    "ExecuteTime": {
     "end_time": "2019-06-13T22:41:21.202745Z",
     "start_time": "2019-06-13T22:41:10.981371Z"
    },
    "hidden": true
   },
   "outputs": [
    {
     "data": {
      "image/png": "[encoded data removed]",
      "text/plain": [
       "<Figure size 576x576 with 1 Axes>"
      ]
     },
     "metadata": {
      "needs_background": "light"
     },
     "output_type": "display_data"
    }
   ],
   "source": [
    "plot_cv_roc(clf,cv,X,y)"
   ]
  },
  {
   "cell_type": "code",
   "execution_count": 23,
   "metadata": {
    "ExecuteTime": {
     "end_time": "2019-06-13T22:41:31.015579Z",
     "start_time": "2019-06-13T22:41:21.205424Z"
    },
    "hidden": true
   },
   "outputs": [
    {
     "name": "stderr",
     "output_type": "stream",
     "text": [
      "/Users/danky/_Proyectos/ModellingWeek/modelling_week_2019/notebooks/cv_utils.py:166: MatplotlibDeprecationWarning: Adding an axes using the same arguments as a previous axes currently reuses the earlier instance.  In a future version, a new instance will always be created and returned.  Meanwhile, this warning can be suppressed, and the future behavior ensured, by passing a unique label to each axes instance.\n",
      "  plt.subplot(121)\n",
      "/Users/danky/_Proyectos/ModellingWeek/modelling_week_2019/notebooks/cv_utils.py:176: MatplotlibDeprecationWarning: Adding an axes using the same arguments as a previous axes currently reuses the earlier instance.  In a future version, a new instance will always be created and returned.  Meanwhile, this warning can be suppressed, and the future behavior ensured, by passing a unique label to each axes instance.\n",
      "  plt.subplot(122)\n",
      "/Users/danky/_Proyectos/ModellingWeek/modelling_week_2019/notebooks/cv_utils.py:166: MatplotlibDeprecationWarning: Adding an axes using the same arguments as a previous axes currently reuses the earlier instance.  In a future version, a new instance will always be created and returned.  Meanwhile, this warning can be suppressed, and the future behavior ensured, by passing a unique label to each axes instance.\n",
      "  plt.subplot(121)\n",
      "/Users/danky/_Proyectos/ModellingWeek/modelling_week_2019/notebooks/cv_utils.py:176: MatplotlibDeprecationWarning: Adding an axes using the same arguments as a previous axes currently reuses the earlier instance.  In a future version, a new instance will always be created and returned.  Meanwhile, this warning can be suppressed, and the future behavior ensured, by passing a unique label to each axes instance.\n",
      "  plt.subplot(122)\n",
      "/Users/danky/_Proyectos/ModellingWeek/modelling_week_2019/notebooks/cv_utils.py:166: MatplotlibDeprecationWarning: Adding an axes using the same arguments as a previous axes currently reuses the earlier instance.  In a future version, a new instance will always be created and returned.  Meanwhile, this warning can be suppressed, and the future behavior ensured, by passing a unique label to each axes instance.\n",
      "  plt.subplot(121)\n",
      "/Users/danky/_Proyectos/ModellingWeek/modelling_week_2019/notebooks/cv_utils.py:176: MatplotlibDeprecationWarning: Adding an axes using the same arguments as a previous axes currently reuses the earlier instance.  In a future version, a new instance will always be created and returned.  Meanwhile, this warning can be suppressed, and the future behavior ensured, by passing a unique label to each axes instance.\n",
      "  plt.subplot(122)\n",
      "/Users/danky/_Proyectos/ModellingWeek/modelling_week_2019/notebooks/cv_utils.py:197: MatplotlibDeprecationWarning: Adding an axes using the same arguments as a previous axes currently reuses the earlier instance.  In a future version, a new instance will always be created and returned.  Meanwhile, this warning can be suppressed, and the future behavior ensured, by passing a unique label to each axes instance.\n",
      "  plt.subplot(121)\n",
      "/Users/danky/_Proyectos/ModellingWeek/modelling_week_2019/notebooks/cv_utils.py:214: MatplotlibDeprecationWarning: Adding an axes using the same arguments as a previous axes currently reuses the earlier instance.  In a future version, a new instance will always be created and returned.  Meanwhile, this warning can be suppressed, and the future behavior ensured, by passing a unique label to each axes instance.\n",
      "  plt.subplot(122)\n"
     ]
    },
    {
     "data": {
      "image/png": "[encoded data removed]",
      "text/plain": [
       "<Figure size 1152x576 with 2 Axes>"
      ]
     },
     "metadata": {
      "needs_background": "light"
     },
     "output_type": "display_data"
    }
   ],
   "source": [
    "plot_cv_roc_prc(clf,cv,X,y)"
   ]
  },
  {
   "cell_type": "markdown",
   "metadata": {},
   "source": [
    "## Testing other models"
   ]
  },
  {
   "cell_type": "code",
   "execution_count": 24,
   "metadata": {
    "ExecuteTime": {
     "end_time": "2019-06-13T22:44:56.715310Z",
     "start_time": "2019-06-13T22:42:29.900801Z"
    }
   },
   "outputs": [
    {
     "name": "stdout",
     "output_type": "stream",
     "text": [
      "1-fold / 4 completed!\n",
      "2-fold / 4 completed!\n",
      "3-fold / 4 completed!\n",
      "4-fold / 4 completed!\n",
      "F1 value (Train): 1.00 ± 0.00\n",
      "F1 value (Val): 0.77 ± 0.05\n"
     ]
    }
   ],
   "source": [
    "feat_sel = FeatureSelectorDic(['V12','AmountBC','V16','V9'],feat_to_idx)\n",
    "clf_ = RandomForestClassifier(n_estimators=100,n_jobs=-1,random_state=0)\n",
    "clf = make_pipeline(feat_sel,clf_)\n",
    "\n",
    "scores = run_cv_f1(clf,cv,X,y)"
   ]
  },
  {
   "cell_type": "code",
   "execution_count": 7,
   "metadata": {
    "ExecuteTime": {
     "end_time": "2019-06-12T11:03:54.160423Z",
     "start_time": "2019-06-12T11:03:54.034469Z"
    }
   },
   "outputs": [
    {
     "name": "stdout",
     "output_type": "stream",
     "text": [
      "V12 45.168946351201825\n",
      "AmountBC 8.546067680924292\n",
      "V16 27.534791680607483\n",
      "V9 18.750194287266396\n"
     ]
    }
   ],
   "source": [
    "for name, value in zip(['V12','AmountBC','V16','V9'],100*clf.feature_importances_):\n",
    "    print(name,value)"
   ]
  },
  {
   "cell_type": "code",
   "execution_count": 29,
   "metadata": {
    "ExecuteTime": {
     "end_time": "2019-06-13T22:48:41.046211Z",
     "start_time": "2019-06-13T22:47:58.015904Z"
    }
   },
   "outputs": [
    {
     "name": "stdout",
     "output_type": "stream",
     "text": [
      "1-fold / 4 completed!\n",
      "2-fold / 4 completed!\n",
      "3-fold / 4 completed!\n",
      "4-fold / 4 completed!\n",
      "F1 value (Train): 0.68 ± 0.03\n",
      "F1 value (Val): 0.66 ± 0.08\n"
     ]
    }
   ],
   "source": [
    "feat_sel = FeatureSelectorDic(['V12','AmountBC','V16','V9'],feat_to_idx)\n",
    "clf_ = AdaBoostClassifier(random_state=0)\n",
    "clf = make_pipeline(feat_sel,clf_)\n",
    "\n",
    "scores = run_cv_f1(clf,cv,X,y)"
   ]
  },
  {
   "cell_type": "code",
   "execution_count": 35,
   "metadata": {
    "ExecuteTime": {
     "end_time": "2019-06-13T22:49:38.891233Z",
     "start_time": "2019-06-13T22:49:38.851187Z"
    }
   },
   "outputs": [
    {
     "name": "stdout",
     "output_type": "stream",
     "text": [
      "V12 44.0\n",
      "AmountBC 14.000000000000002\n",
      "V16 18.0\n",
      "V9 24.0\n"
     ]
    }
   ],
   "source": [
    "for name, val in zip(['V12','AmountBC','V16','V9'],100*clf.steps[1][1].feature_importances_):\n",
    "    print(name,val)"
   ]
  },
  {
   "cell_type": "code",
   "execution_count": 36,
   "metadata": {
    "ExecuteTime": {
     "end_time": "2019-06-13T22:50:07.976799Z",
     "start_time": "2019-06-13T22:49:59.365213Z"
    }
   },
   "outputs": [
    {
     "name": "stdout",
     "output_type": "stream",
     "text": [
      "1-fold / 4 completed!\n",
      "2-fold / 4 completed!\n",
      "3-fold / 4 completed!\n",
      "4-fold / 4 completed!\n",
      "F1 value (Train): 0.08 ± 0.01\n",
      "F1 value (Val): 0.08 ± 0.00\n"
     ]
    }
   ],
   "source": [
    "std_scaler = StandardScaler()\n",
    "feat_sel = FeatureSelectorDic(['V4','V14','V16','V17','V18','TimeSin','AmountBC'],feat_to_idx)\n",
    "clf_ = LogisticRegression(solver='lbfgs',random_state=0,class_weight='balanced',n_jobs=-1)\n",
    "clf = make_pipeline(feat_sel,std_scaler,clf_)\n",
    "\n",
    "scores = run_cv_f1(clf,cv,X,y)"
   ]
  },
  {
   "cell_type": "code",
   "execution_count": 39,
   "metadata": {
    "ExecuteTime": {
     "end_time": "2019-06-12T11:12:57.596160Z",
     "start_time": "2019-06-12T11:12:53.327405Z"
    }
   },
   "outputs": [
    {
     "name": "stdout",
     "output_type": "stream",
     "text": [
      "1-fold / 4 completed!\n",
      "2-fold / 4 completed!\n",
      "3-fold / 4 completed!\n",
      "4-fold / 4 completed!\n",
      "F1 value (Train): 0.08 ± 0.01\n",
      "F1 value (Val): 0.08 ± 0.00\n",
      "\n"
     ]
    }
   ],
   "source": [
    "feat_sel = FeatureSelectorDic(['V4','V14','V16','V17','V18','TimeSin','AmountBC'],feat_to_idx)\n",
    "clf_ = LogisticRegression(solver='lbfgs',random_state=0,class_weight='balanced',n_jobs=-1)\n",
    "clf = make_pipeline(feat_sel,clf_)\n",
    "\n",
    "scores = run_cv_f1(clf,cv,X,y)"
   ]
  },
  {
   "cell_type": "code",
   "execution_count": 37,
   "metadata": {
    "ExecuteTime": {
     "end_time": "2019-06-13T22:50:16.098757Z",
     "start_time": "2019-06-13T22:50:11.239398Z"
    }
   },
   "outputs": [
    {
     "name": "stdout",
     "output_type": "stream",
     "text": [
      "1-fold / 4 completed!\n",
      "2-fold / 4 completed!\n",
      "3-fold / 4 completed!\n",
      "4-fold / 4 completed!\n",
      "F1 value (Train): 0.67 ± 0.01\n",
      "F1 value (Val): 0.66 ± 0.05\n"
     ]
    }
   ],
   "source": [
    "std_scaler = StandardScaler()\n",
    "feat_sel = FeatureSelectorDic(['V4','V14','V16','V17','V18','TimeSin','AmountBC'],feat_to_idx)\n",
    "clf_ = LogisticRegression(solver='lbfgs',random_state=0,class_weight=None,n_jobs=-1)\n",
    "clf = make_pipeline(feat_sel,std_scaler,clf_)\n",
    "\n",
    "scores = run_cv_f1(clf,cv,X,y)"
   ]
  },
  {
   "cell_type": "code",
   "execution_count": 27,
   "metadata": {
    "ExecuteTime": {
     "end_time": "2019-06-13T22:47:40.080592Z",
     "start_time": "2019-06-13T22:46:14.710844Z"
    }
   },
   "outputs": [
    {
     "name": "stdout",
     "output_type": "stream",
     "text": [
      "1-fold / 4 completed!\n",
      "2-fold / 4 completed!\n",
      "3-fold / 4 completed!\n",
      "4-fold / 4 completed!\n",
      "F1 value (Train): 0.87 ± 0.01\n",
      "F1 value (Val): 0.81 ± 0.07\n"
     ]
    }
   ],
   "source": [
    "std_scaler = StandardScaler()\n",
    "feat_sel = FeatureSelectorDic(['V4','V14','V16','V17','V18','TimeSin','AmountBC'],feat_to_idx)\n",
    "clf_ = KNeighborsClassifier(n_neighbors=3,n_jobs=-1)\n",
    "clf = make_pipeline(feat_sel,std_scaler,clf_)\n",
    "\n",
    "scores = run_cv_f1(clf,cv,X,y)"
   ]
  },
  {
   "cell_type": "code",
   "execution_count": 40,
   "metadata": {
    "ExecuteTime": {
     "end_time": "2019-06-13T22:53:11.939106Z",
     "start_time": "2019-06-13T22:52:00.418864Z"
    }
   },
   "outputs": [
    {
     "name": "stdout",
     "output_type": "stream",
     "text": [
      "1-fold / 4 completed!\n",
      "2-fold / 4 completed!\n",
      "3-fold / 4 completed!\n",
      "4-fold / 4 completed!\n",
      "F1 value (Train): 0.85 ± 0.01\n",
      "F1 value (Val): 0.77 ± 0.06\n"
     ]
    }
   ],
   "source": [
    "minmax_scaler = MinMaxScaler()\n",
    "feat_sel = FeatureSelectorDic(['V4','V14','V16','V17','V18','TimeSin','AmountBC'],feat_to_idx)\n",
    "clf_ = KNeighborsClassifier(n_neighbors=3,n_jobs=-1)\n",
    "clf = make_pipeline(feat_sel,minmax_scaler,clf_)\n",
    "\n",
    "scores = run_cv_f1(clf,cv,X,y)"
   ]
  },
  {
   "cell_type": "code",
   "execution_count": 41,
   "metadata": {
    "ExecuteTime": {
     "end_time": "2019-06-13T22:55:49.989645Z",
     "start_time": "2019-06-13T22:54:25.153465Z"
    }
   },
   "outputs": [
    {
     "name": "stdout",
     "output_type": "stream",
     "text": [
      "1-fold / 4 completed!\n",
      "2-fold / 4 completed!\n",
      "3-fold / 4 completed!\n",
      "4-fold / 4 completed!\n",
      "F1 value (Train): 0.87 ± 0.01\n",
      "F1 value (Val): 0.80 ± 0.06\n"
     ]
    }
   ],
   "source": [
    "feat_sel = FeatureSelectorDic(['V4','V14','V16','V17','V18','TimeSin','AmountBC'],feat_to_idx)\n",
    "clf_ = KNeighborsClassifier(n_neighbors=3,n_jobs=-1)\n",
    "clf = make_pipeline(feat_sel,clf_)\n",
    "\n",
    "scores = run_cv_f1(clf,cv,X,y)"
   ]
  },
  {
   "cell_type": "code",
   "execution_count": 42,
   "metadata": {
    "ExecuteTime": {
     "end_time": "2019-06-13T22:57:47.837937Z",
     "start_time": "2019-06-13T22:55:49.992952Z"
    }
   },
   "outputs": [
    {
     "name": "stdout",
     "output_type": "stream",
     "text": [
      "1-fold / 4 completed!\n",
      "2-fold / 4 completed!\n",
      "3-fold / 4 completed!\n",
      "4-fold / 4 completed!\n",
      "F1 value (Train): 1.00 ± 0.00\n",
      "F1 value (Val): 0.80 ± 0.06\n"
     ]
    }
   ],
   "source": [
    "feat_sel = FeatureSelectorDic(['V4','V14','V16','V17','V18','TimeSin','AmountBC'],feat_to_idx)\n",
    "clf_ = RandomForestClassifier(n_estimators=100,n_jobs=-1,random_state=0)\n",
    "clf = make_pipeline(feat_sel,clf_)\n",
    "\n",
    "scores = run_cv_f1(clf,cv,X,y)"
   ]
  },
  {
   "cell_type": "code",
   "execution_count": 43,
   "metadata": {
    "ExecuteTime": {
     "end_time": "2019-06-13T22:58:04.407252Z",
     "start_time": "2019-06-13T22:57:47.841590Z"
    }
   },
   "outputs": [
    {
     "name": "stdout",
     "output_type": "stream",
     "text": [
      "1-fold / 4 completed!\n",
      "2-fold / 4 completed!\n",
      "3-fold / 4 completed!\n",
      "4-fold / 4 completed!\n",
      "F1 value (Train): 1.00 ± 0.00\n",
      "F1 value (Val): 0.81 ± 0.06\n"
     ]
    }
   ],
   "source": [
    "feat_sel = FeatureSelectorDic(['V4','V14','V16','V17','V18','TimeSin','AmountBC'],feat_to_idx)\n",
    "clf_ = ExtraTreesClassifier(n_estimators=50,n_jobs=-1,random_state=0)\n",
    "clf = make_pipeline(feat_sel,clf_)\n",
    "\n",
    "scores = run_cv_f1(clf,cv,X,y)"
   ]
  },
  {
   "cell_type": "code",
   "execution_count": 44,
   "metadata": {
    "ExecuteTime": {
     "end_time": "2019-06-13T22:58:56.046913Z",
     "start_time": "2019-06-13T22:58:04.410861Z"
    }
   },
   "outputs": [
    {
     "name": "stdout",
     "output_type": "stream",
     "text": [
      "1-fold / 4 completed!\n",
      "2-fold / 4 completed!\n",
      "3-fold / 4 completed!\n",
      "4-fold / 4 completed!\n",
      "F1 value (Train): 1.00 ± 0.00\n",
      "F1 value (Val): 0.82 ± 0.04\n"
     ]
    }
   ],
   "source": [
    "clf_ = ExtraTreesClassifier(n_estimators=50,n_jobs=-1,random_state=0)\n",
    "clf = make_pipeline(clf_)\n",
    "\n",
    "scores = run_cv_f1(clf,cv,X,y)"
   ]
  },
  {
   "cell_type": "code",
   "execution_count": 45,
   "metadata": {
    "ExecuteTime": {
     "end_time": "2019-06-13T22:59:22.512444Z",
     "start_time": "2019-06-13T22:58:56.049918Z"
    }
   },
   "outputs": [
    {
     "name": "stdout",
     "output_type": "stream",
     "text": [
      "1-fold / 4 completed!\n",
      "2-fold / 4 completed!\n",
      "3-fold / 4 completed!\n",
      "4-fold / 4 completed!\n",
      "F1 value (Train): 0.81 ± 0.01\n",
      "F1 value (Val): 0.78 ± 0.05\n"
     ]
    }
   ],
   "source": [
    "std_scaler = StandardScaler()\n",
    "feat_sel = FeatureSelectorDic(['V4','V14','V16','V17','V18','TimeSin','AmountBC'],feat_to_idx)\n",
    "clf_ = MLPClassifier(solver='lbfgs', alpha=1e-5,\n",
    "                 hidden_layer_sizes=(16,8,2), random_state=0)\n",
    "clf = make_pipeline(feat_sel,std_scaler,clf_)\n",
    "\n",
    "scores = run_cv_f1(clf,cv,X,y)"
   ]
  },
  {
   "cell_type": "code",
   "execution_count": 46,
   "metadata": {
    "ExecuteTime": {
     "end_time": "2019-06-13T23:01:29.027111Z",
     "start_time": "2019-06-13T22:59:22.515956Z"
    }
   },
   "outputs": [
    {
     "name": "stdout",
     "output_type": "stream",
     "text": [
      "1-fold / 4 completed!\n",
      "2-fold / 4 completed!\n",
      "3-fold / 4 completed!\n",
      "4-fold / 4 completed!\n",
      "F1 value (Train): 0.97 ± 0.01\n",
      "F1 value (Val): 0.79 ± 0.04\n"
     ]
    }
   ],
   "source": [
    "std_scaler = StandardScaler()\n",
    "clf_ = MLPClassifier(solver='lbfgs', alpha=1e-5,\n",
    "                 hidden_layer_sizes=(16,8,2), random_state=0)\n",
    "clf = make_pipeline(std_scaler,clf_)\n",
    "\n",
    "scores = run_cv_f1(clf,cv,X,y)"
   ]
  },
  {
   "cell_type": "markdown",
   "metadata": {},
   "source": [
    "## Using sklearn function for CV (Preferred)\n",
    "\n",
    "Even if it is easy to build the CV loop, and we can change the metric and the outputs in a personalized way, using a `for` loop makes the CV step non parallelizable (we could use the library `multiprocessing`) to solve this, but `sklearn` has implemented such an utility.\n",
    "\n",
    "These utilities can be found in sklearn's [webpage](https://scikit-learn.org/stable/modules/classes.html#model-validation). Some of them are:\n",
    "* [cross_val_score](https://scikit-learn.org/stable/modules/generated/sklearn.model_selection.cross_val_score.html) : Returning the validation score for some given metric.\n",
    "* [cross_validate](https://scikit-learn.org/stable/modules/generated/sklearn.model_selection.cross_validate.html#sklearn.model_selection.cross_validate) : Evaluate metric(s) by cross-validation and also record fit/score times. It can also returns the train metric."
   ]
  },
  {
   "cell_type": "code",
   "execution_count": 47,
   "metadata": {
    "ExecuteTime": {
     "end_time": "2019-06-13T23:01:58.583110Z",
     "start_time": "2019-06-13T23:01:58.554738Z"
    }
   },
   "outputs": [],
   "source": [
    "from sklearn.model_selection import cross_validate\n",
    "from cv_utils import print_scores_cv"
   ]
  },
  {
   "cell_type": "code",
   "execution_count": 48,
   "metadata": {
    "ExecuteTime": {
     "end_time": "2019-06-13T23:13:53.501065Z",
     "start_time": "2019-06-13T23:13:26.793091Z"
    }
   },
   "outputs": [
    {
     "name": "stdout",
     "output_type": "stream",
     "text": [
      "test_f1: 0.82 +- 0.06\n",
      "train_f1: 1.00 +- 0.00\n",
      "test_average_precision: 0.78 +- 0.07\n",
      "train_average_precision: 1.00 +- 0.00\n",
      "test_roc_auc: 0.92 +- 0.02\n",
      "train_roc_auc: 1.00 +- 0.00\n",
      "test_precision: 0.92 +- 0.03\n",
      "train_precision: 1.00 +- 0.00\n",
      "test_recall: 0.74 +- 0.08\n",
      "train_recall: 1.00 +- 0.00\n"
     ]
    }
   ],
   "source": [
    "std_scaler = StandardScaler()\n",
    "feat_sel = FeatureSelectorDic(['V9','V14','V16'],feat_to_idx)\n",
    "clf_ = ExtraTreesClassifier(n_estimators=50,n_jobs=-1,random_state=0)\n",
    "clf = make_pipeline(feat_sel,std_scaler,clf_)\n",
    "\n",
    "scores = cross_validate(clf,X,y,cv=cv,\n",
    "                        scoring=['f1','average_precision','roc_auc','precision','recall'],\n",
    "                        n_jobs=-1, return_train_score=True)\n",
    "print_scores_cv(scores)"
   ]
  },
  {
   "cell_type": "code",
   "execution_count": 49,
   "metadata": {
    "ExecuteTime": {
     "end_time": "2019-06-13T23:49:32.102601Z",
     "start_time": "2019-06-13T23:14:53.319693Z"
    }
   },
   "outputs": [
    {
     "ename": "KeyboardInterrupt",
     "evalue": "",
     "output_type": "error",
     "traceback": [
      "\u001b[0;31m---------------------------------------------------------------------------\u001b[0m",
      "\u001b[0;31mKeyboardInterrupt\u001b[0m                         Traceback (most recent call last)",
      "\u001b[0;32m<ipython-input-49-ba05d6464ad4>\u001b[0m in \u001b[0;36m<module>\u001b[0;34m\u001b[0m\n\u001b[1;32m      5\u001b[0m scores = cross_validate(clf,X,y,cv=cv,\n\u001b[1;32m      6\u001b[0m                         \u001b[0mscoring\u001b[0m\u001b[0;34m=\u001b[0m\u001b[0;34m[\u001b[0m\u001b[0;34m'f1'\u001b[0m\u001b[0;34m,\u001b[0m\u001b[0;34m'average_precision'\u001b[0m\u001b[0;34m,\u001b[0m\u001b[0;34m'roc_auc'\u001b[0m\u001b[0;34m,\u001b[0m\u001b[0;34m'precision'\u001b[0m\u001b[0;34m,\u001b[0m\u001b[0;34m'recall'\u001b[0m\u001b[0;34m]\u001b[0m\u001b[0;34m,\u001b[0m\u001b[0;34m\u001b[0m\u001b[0;34m\u001b[0m\u001b[0m\n\u001b[0;32m----> 7\u001b[0;31m                         n_jobs=-1, return_train_score=True)\n\u001b[0m\u001b[1;32m      8\u001b[0m \u001b[0mprint_scores_cv\u001b[0m\u001b[0;34m(\u001b[0m\u001b[0mscores\u001b[0m\u001b[0;34m)\u001b[0m\u001b[0;34m\u001b[0m\u001b[0;34m\u001b[0m\u001b[0m\n",
      "\u001b[0;32m~/anaconda3/envs/fraud_credit/lib/python3.6/site-packages/sklearn/model_selection/_validation.py\u001b[0m in \u001b[0;36mcross_validate\u001b[0;34m(estimator, X, y, groups, scoring, cv, n_jobs, verbose, fit_params, pre_dispatch, return_train_score, return_estimator, error_score)\u001b[0m\n\u001b[1;32m    229\u001b[0m             \u001b[0mreturn_times\u001b[0m\u001b[0;34m=\u001b[0m\u001b[0;32mTrue\u001b[0m\u001b[0;34m,\u001b[0m \u001b[0mreturn_estimator\u001b[0m\u001b[0;34m=\u001b[0m\u001b[0mreturn_estimator\u001b[0m\u001b[0;34m,\u001b[0m\u001b[0;34m\u001b[0m\u001b[0;34m\u001b[0m\u001b[0m\n\u001b[1;32m    230\u001b[0m             error_score=error_score)\n\u001b[0;32m--> 231\u001b[0;31m         for train, test in cv.split(X, y, groups))\n\u001b[0m\u001b[1;32m    232\u001b[0m \u001b[0;34m\u001b[0m\u001b[0m\n\u001b[1;32m    233\u001b[0m     \u001b[0mzipped_scores\u001b[0m \u001b[0;34m=\u001b[0m \u001b[0mlist\u001b[0m\u001b[0;34m(\u001b[0m\u001b[0mzip\u001b[0m\u001b[0;34m(\u001b[0m\u001b[0;34m*\u001b[0m\u001b[0mscores\u001b[0m\u001b[0;34m)\u001b[0m\u001b[0;34m)\u001b[0m\u001b[0;34m\u001b[0m\u001b[0;34m\u001b[0m\u001b[0m\n",
      "\u001b[0;32m~/anaconda3/envs/fraud_credit/lib/python3.6/site-packages/joblib/parallel.py\u001b[0m in \u001b[0;36m__call__\u001b[0;34m(self, iterable)\u001b[0m\n\u001b[1;32m    932\u001b[0m \u001b[0;34m\u001b[0m\u001b[0m\n\u001b[1;32m    933\u001b[0m             \u001b[0;32mwith\u001b[0m \u001b[0mself\u001b[0m\u001b[0;34m.\u001b[0m\u001b[0m_backend\u001b[0m\u001b[0;34m.\u001b[0m\u001b[0mretrieval_context\u001b[0m\u001b[0;34m(\u001b[0m\u001b[0;34m)\u001b[0m\u001b[0;34m:\u001b[0m\u001b[0;34m\u001b[0m\u001b[0;34m\u001b[0m\u001b[0m\n\u001b[0;32m--> 934\u001b[0;31m                 \u001b[0mself\u001b[0m\u001b[0;34m.\u001b[0m\u001b[0mretrieve\u001b[0m\u001b[0;34m(\u001b[0m\u001b[0;34m)\u001b[0m\u001b[0;34m\u001b[0m\u001b[0;34m\u001b[0m\u001b[0m\n\u001b[0m\u001b[1;32m    935\u001b[0m             \u001b[0;31m# Make sure that we get a last message telling us we are done\u001b[0m\u001b[0;34m\u001b[0m\u001b[0;34m\u001b[0m\u001b[0;34m\u001b[0m\u001b[0m\n\u001b[1;32m    936\u001b[0m             \u001b[0melapsed_time\u001b[0m \u001b[0;34m=\u001b[0m \u001b[0mtime\u001b[0m\u001b[0;34m.\u001b[0m\u001b[0mtime\u001b[0m\u001b[0;34m(\u001b[0m\u001b[0;34m)\u001b[0m \u001b[0;34m-\u001b[0m \u001b[0mself\u001b[0m\u001b[0;34m.\u001b[0m\u001b[0m_start_time\u001b[0m\u001b[0;34m\u001b[0m\u001b[0;34m\u001b[0m\u001b[0m\n",
      "\u001b[0;32m~/anaconda3/envs/fraud_credit/lib/python3.6/site-packages/joblib/parallel.py\u001b[0m in \u001b[0;36mretrieve\u001b[0;34m(self)\u001b[0m\n\u001b[1;32m    831\u001b[0m             \u001b[0;32mtry\u001b[0m\u001b[0;34m:\u001b[0m\u001b[0;34m\u001b[0m\u001b[0;34m\u001b[0m\u001b[0m\n\u001b[1;32m    832\u001b[0m                 \u001b[0;32mif\u001b[0m \u001b[0mgetattr\u001b[0m\u001b[0;34m(\u001b[0m\u001b[0mself\u001b[0m\u001b[0;34m.\u001b[0m\u001b[0m_backend\u001b[0m\u001b[0;34m,\u001b[0m \u001b[0;34m'supports_timeout'\u001b[0m\u001b[0;34m,\u001b[0m \u001b[0;32mFalse\u001b[0m\u001b[0;34m)\u001b[0m\u001b[0;34m:\u001b[0m\u001b[0;34m\u001b[0m\u001b[0;34m\u001b[0m\u001b[0m\n\u001b[0;32m--> 833\u001b[0;31m                     \u001b[0mself\u001b[0m\u001b[0;34m.\u001b[0m\u001b[0m_output\u001b[0m\u001b[0;34m.\u001b[0m\u001b[0mextend\u001b[0m\u001b[0;34m(\u001b[0m\u001b[0mjob\u001b[0m\u001b[0;34m.\u001b[0m\u001b[0mget\u001b[0m\u001b[0;34m(\u001b[0m\u001b[0mtimeout\u001b[0m\u001b[0;34m=\u001b[0m\u001b[0mself\u001b[0m\u001b[0;34m.\u001b[0m\u001b[0mtimeout\u001b[0m\u001b[0;34m)\u001b[0m\u001b[0;34m)\u001b[0m\u001b[0;34m\u001b[0m\u001b[0;34m\u001b[0m\u001b[0m\n\u001b[0m\u001b[1;32m    834\u001b[0m                 \u001b[0;32melse\u001b[0m\u001b[0;34m:\u001b[0m\u001b[0;34m\u001b[0m\u001b[0;34m\u001b[0m\u001b[0m\n\u001b[1;32m    835\u001b[0m                     \u001b[0mself\u001b[0m\u001b[0;34m.\u001b[0m\u001b[0m_output\u001b[0m\u001b[0;34m.\u001b[0m\u001b[0mextend\u001b[0m\u001b[0;34m(\u001b[0m\u001b[0mjob\u001b[0m\u001b[0;34m.\u001b[0m\u001b[0mget\u001b[0m\u001b[0;34m(\u001b[0m\u001b[0;34m)\u001b[0m\u001b[0;34m)\u001b[0m\u001b[0;34m\u001b[0m\u001b[0;34m\u001b[0m\u001b[0m\n",
      "\u001b[0;32m~/anaconda3/envs/fraud_credit/lib/python3.6/site-packages/joblib/_parallel_backends.py\u001b[0m in \u001b[0;36mwrap_future_result\u001b[0;34m(future, timeout)\u001b[0m\n\u001b[1;32m    519\u001b[0m         AsyncResults.get from multiprocessing.\"\"\"\n\u001b[1;32m    520\u001b[0m         \u001b[0;32mtry\u001b[0m\u001b[0;34m:\u001b[0m\u001b[0;34m\u001b[0m\u001b[0;34m\u001b[0m\u001b[0m\n\u001b[0;32m--> 521\u001b[0;31m             \u001b[0;32mreturn\u001b[0m \u001b[0mfuture\u001b[0m\u001b[0;34m.\u001b[0m\u001b[0mresult\u001b[0m\u001b[0;34m(\u001b[0m\u001b[0mtimeout\u001b[0m\u001b[0;34m=\u001b[0m\u001b[0mtimeout\u001b[0m\u001b[0;34m)\u001b[0m\u001b[0;34m\u001b[0m\u001b[0;34m\u001b[0m\u001b[0m\n\u001b[0m\u001b[1;32m    522\u001b[0m         \u001b[0;32mexcept\u001b[0m \u001b[0mLokyTimeoutError\u001b[0m\u001b[0;34m:\u001b[0m\u001b[0;34m\u001b[0m\u001b[0;34m\u001b[0m\u001b[0m\n\u001b[1;32m    523\u001b[0m             \u001b[0;32mraise\u001b[0m \u001b[0mTimeoutError\u001b[0m\u001b[0;34m(\u001b[0m\u001b[0;34m)\u001b[0m\u001b[0;34m\u001b[0m\u001b[0;34m\u001b[0m\u001b[0m\n",
      "\u001b[0;32m~/anaconda3/envs/fraud_credit/lib/python3.6/concurrent/futures/_base.py\u001b[0m in \u001b[0;36mresult\u001b[0;34m(self, timeout)\u001b[0m\n\u001b[1;32m    425\u001b[0m                 \u001b[0;32mreturn\u001b[0m \u001b[0mself\u001b[0m\u001b[0;34m.\u001b[0m\u001b[0m__get_result\u001b[0m\u001b[0;34m(\u001b[0m\u001b[0;34m)\u001b[0m\u001b[0;34m\u001b[0m\u001b[0;34m\u001b[0m\u001b[0m\n\u001b[1;32m    426\u001b[0m \u001b[0;34m\u001b[0m\u001b[0m\n\u001b[0;32m--> 427\u001b[0;31m             \u001b[0mself\u001b[0m\u001b[0;34m.\u001b[0m\u001b[0m_condition\u001b[0m\u001b[0;34m.\u001b[0m\u001b[0mwait\u001b[0m\u001b[0;34m(\u001b[0m\u001b[0mtimeout\u001b[0m\u001b[0;34m)\u001b[0m\u001b[0;34m\u001b[0m\u001b[0;34m\u001b[0m\u001b[0m\n\u001b[0m\u001b[1;32m    428\u001b[0m \u001b[0;34m\u001b[0m\u001b[0m\n\u001b[1;32m    429\u001b[0m             \u001b[0;32mif\u001b[0m \u001b[0mself\u001b[0m\u001b[0;34m.\u001b[0m\u001b[0m_state\u001b[0m \u001b[0;32min\u001b[0m \u001b[0;34m[\u001b[0m\u001b[0mCANCELLED\u001b[0m\u001b[0;34m,\u001b[0m \u001b[0mCANCELLED_AND_NOTIFIED\u001b[0m\u001b[0;34m]\u001b[0m\u001b[0;34m:\u001b[0m\u001b[0;34m\u001b[0m\u001b[0;34m\u001b[0m\u001b[0m\n",
      "\u001b[0;32m~/anaconda3/envs/fraud_credit/lib/python3.6/threading.py\u001b[0m in \u001b[0;36mwait\u001b[0;34m(self, timeout)\u001b[0m\n\u001b[1;32m    293\u001b[0m         \u001b[0;32mtry\u001b[0m\u001b[0;34m:\u001b[0m    \u001b[0;31m# restore state no matter what (e.g., KeyboardInterrupt)\u001b[0m\u001b[0;34m\u001b[0m\u001b[0;34m\u001b[0m\u001b[0m\n\u001b[1;32m    294\u001b[0m             \u001b[0;32mif\u001b[0m \u001b[0mtimeout\u001b[0m \u001b[0;32mis\u001b[0m \u001b[0;32mNone\u001b[0m\u001b[0;34m:\u001b[0m\u001b[0;34m\u001b[0m\u001b[0;34m\u001b[0m\u001b[0m\n\u001b[0;32m--> 295\u001b[0;31m                 \u001b[0mwaiter\u001b[0m\u001b[0;34m.\u001b[0m\u001b[0macquire\u001b[0m\u001b[0;34m(\u001b[0m\u001b[0;34m)\u001b[0m\u001b[0;34m\u001b[0m\u001b[0;34m\u001b[0m\u001b[0m\n\u001b[0m\u001b[1;32m    296\u001b[0m                 \u001b[0mgotit\u001b[0m \u001b[0;34m=\u001b[0m \u001b[0;32mTrue\u001b[0m\u001b[0;34m\u001b[0m\u001b[0;34m\u001b[0m\u001b[0m\n\u001b[1;32m    297\u001b[0m             \u001b[0;32melse\u001b[0m\u001b[0;34m:\u001b[0m\u001b[0;34m\u001b[0m\u001b[0;34m\u001b[0m\u001b[0m\n",
      "\u001b[0;31mKeyboardInterrupt\u001b[0m: "
     ]
    }
   ],
   "source": [
    "std_scaler = StandardScaler()\n",
    "clf_ = KNeighborsClassifier(n_neighbors=3,n_jobs=-1)\n",
    "clf = make_pipeline(std_scaler,clf_)\n",
    "\n",
    "scores = cross_validate(clf,X,y,cv=cv,\n",
    "                        scoring=['f1','average_precision','roc_auc','precision','recall'],\n",
    "                        n_jobs=-1, return_train_score=True)\n",
    "print_scores_cv(scores)"
   ]
  },
  {
   "cell_type": "code",
   "execution_count": null,
   "metadata": {
    "ExecuteTime": {
     "end_time": "2019-06-13T23:49:32.109607Z",
     "start_time": "2019-06-13T23:15:36.549Z"
    }
   },
   "outputs": [],
   "source": [
    "clf_ = KNeighborsClassifier(n_neighbors=3,n_jobs=-1)\n",
    "clf = make_pipeline(minmax_scaler,clf_)\n",
    "\n",
    "scores = cross_validate(clf,X,y,cv=cv,\n",
    "                        scoring=['f1','average_precision','roc_auc','precision','recall'],\n",
    "                        n_jobs=-1, return_train_score=True)\n",
    "print_scores_cv(scores)"
   ]
  },
  {
   "cell_type": "code",
   "execution_count": 50,
   "metadata": {
    "ExecuteTime": {
     "end_time": "2019-06-13T23:50:46.315420Z",
     "start_time": "2019-06-13T23:49:41.472236Z"
    }
   },
   "outputs": [
    {
     "name": "stdout",
     "output_type": "stream",
     "text": [
      "test_f1: 0.82 +- 0.04\n",
      "train_f1: 1.00 +- 0.00\n",
      "test_average_precision: 0.81 +- 0.05\n",
      "train_average_precision: 1.00 +- 0.00\n",
      "test_roc_auc: 0.94 +- 0.02\n",
      "train_roc_auc: 1.00 +- 0.00\n",
      "test_precision: 0.93 +- 0.03\n",
      "train_precision: 1.00 +- 0.00\n",
      "test_recall: 0.74 +- 0.05\n",
      "train_recall: 1.00 +- 0.00\n"
     ]
    }
   ],
   "source": [
    "clf_ = ExtraTreesClassifier(n_estimators=50,n_jobs=-1,random_state=0)\n",
    "clf = make_pipeline(clf_)\n",
    "\n",
    "scores = cross_validate(clf,X,y,cv=cv,\n",
    "                        scoring=['f1','average_precision','roc_auc','precision','recall'],\n",
    "                        n_jobs=-1, return_train_score=True)\n",
    "print_scores_cv(scores)"
   ]
  },
  {
   "cell_type": "code",
   "execution_count": 51,
   "metadata": {
    "ExecuteTime": {
     "end_time": "2019-06-13T23:51:20.767392Z",
     "start_time": "2019-06-13T23:50:46.320669Z"
    }
   },
   "outputs": [
    {
     "name": "stdout",
     "output_type": "stream",
     "text": [
      "test_f1: 0.75 +- 0.07\n",
      "train_f1: 0.82 +- 0.04\n",
      "test_average_precision: 0.77 +- 0.08\n",
      "train_average_precision: 0.95 +- 0.01\n",
      "test_roc_auc: 0.96 +- 0.02\n",
      "train_roc_auc: 0.99 +- 0.00\n",
      "test_precision: 0.91 +- 0.05\n",
      "train_precision: 0.97 +- 0.00\n",
      "test_recall: 0.63 +- 0.09\n",
      "train_recall: 0.71 +- 0.06\n"
     ]
    }
   ],
   "source": [
    "clf_ = HistGradientBoostingClassifier(random_state=0,scoring='f1',n_iter_no_change=50,\n",
    "                                      learning_rate=0.01,l2_regularization=0.001)\n",
    "clf = make_pipeline(std_scaler,clf_)\n",
    "\n",
    "scores = cross_validate(clf,X,y,cv=cv,\n",
    "                        scoring=['f1','average_precision','roc_auc','precision','recall'],\n",
    "                        n_jobs=-1, return_train_score=True)\n",
    "print_scores_cv(scores)"
   ]
  },
  {
   "cell_type": "code",
   "execution_count": 52,
   "metadata": {
    "ExecuteTime": {
     "end_time": "2019-06-13T23:52:00.742242Z",
     "start_time": "2019-06-13T23:51:20.773228Z"
    }
   },
   "outputs": [
    {
     "name": "stdout",
     "output_type": "stream",
     "text": [
      "test_f1: 0.77 +- 0.04\n",
      "train_f1: 0.84 +- 0.01\n",
      "test_average_precision: 0.79 +- 0.05\n",
      "train_average_precision: 0.96 +- 0.01\n",
      "test_roc_auc: 0.96 +- 0.02\n",
      "train_roc_auc: 0.99 +- 0.00\n",
      "test_precision: 0.91 +- 0.05\n",
      "train_precision: 0.97 +- 0.00\n",
      "test_recall: 0.67 +- 0.03\n",
      "train_recall: 0.74 +- 0.02\n"
     ]
    }
   ],
   "source": [
    "clf_ = HistGradientBoostingClassifier(random_state=0,scoring='f1',n_iter_no_change=50,\n",
    "                                      learning_rate=0.01,l2_regularization=0.005)\n",
    "clf = make_pipeline(std_scaler,clf_)\n",
    "\n",
    "scores = cross_validate(clf,X,y,cv=cv,\n",
    "                        scoring=['f1','average_precision','roc_auc','precision','recall'],\n",
    "                        n_jobs=-1, return_train_score=True)\n",
    "print_scores_cv(scores)"
   ]
  },
  {
   "cell_type": "code",
   "execution_count": 53,
   "metadata": {
    "ExecuteTime": {
     "end_time": "2019-06-13T23:52:31.094513Z",
     "start_time": "2019-06-13T23:52:00.747083Z"
    }
   },
   "outputs": [
    {
     "name": "stdout",
     "output_type": "stream",
     "text": [
      "test_f1: 0.17 +- 0.20\n",
      "train_f1: 0.19 +- 0.26\n",
      "test_average_precision: 0.26 +- 0.30\n",
      "train_average_precision: 0.24 +- 0.32\n",
      "test_roc_auc: 0.64 +- 0.14\n",
      "train_roc_auc: 0.63 +- 0.20\n",
      "test_precision: 0.12 +- 0.15\n",
      "train_precision: 0.15 +- 0.21\n",
      "test_recall: 0.29 +- 0.30\n",
      "train_recall: 0.28 +- 0.33\n"
     ]
    }
   ],
   "source": [
    "clf_ = HistGradientBoostingClassifier(random_state=0)\n",
    "clf = make_pipeline(std_scaler,clf_)\n",
    "\n",
    "scores = cross_validate(clf,X,y,cv=cv,\n",
    "                        scoring=['f1','average_precision','roc_auc','precision','recall'],\n",
    "                        n_jobs=-1, return_train_score=True)\n",
    "print_scores_cv(scores)"
   ]
  },
  {
   "cell_type": "code",
   "execution_count": 73,
   "metadata": {
    "ExecuteTime": {
     "end_time": "2019-06-14T09:32:30.391564Z",
     "start_time": "2019-06-14T09:32:11.505344Z"
    }
   },
   "outputs": [
    {
     "name": "stdout",
     "output_type": "stream",
     "text": [
      "test_f1: 0.74 +- 0.04\n",
      "train_f1: 0.77 +- 0.03\n",
      "test_average_precision: 0.78 +- 0.07\n",
      "train_average_precision: 0.91 +- 0.01\n",
      "test_roc_auc: 0.96 +- 0.01\n",
      "train_roc_auc: 0.99 +- 0.00\n",
      "test_precision: 0.90 +- 0.05\n",
      "train_precision: 0.95 +- 0.02\n",
      "test_recall: 0.62 +- 0.05\n",
      "train_recall: 0.65 +- 0.06\n"
     ]
    }
   ],
   "source": [
    "from sklearn.svm import LinearSVC\n",
    "from sklearn.feature_selection import SelectKBest\n",
    "from sklearn.feature_selection import chi2\n",
    "std_scaler = StandardScaler()\n",
    "minmax_scaler = MinMaxScaler()\n",
    "feat_sel = FeatureSelectorDic(\n",
    "    ['V4','V14','V16','V17','V18','TimeSin','AmountBC']\n",
    "    ,feat_to_idx)\n",
    "feat_sel_auto = SelectKBest(chi2, k=10)\n",
    "clf_ = HistGradientBoostingClassifier(random_state=0,scoring='f1',n_iter_no_change=50,\n",
    "                                      learning_rate=0.01,l2_regularization=0.005)\n",
    "clf = make_pipeline(minmax_scaler,feat_sel_auto,std_scaler,clf_)\n",
    "\n",
    "scores = cross_validate(clf,X,y,cv=cv,\n",
    "                        scoring=['f1','average_precision','roc_auc','precision','recall'],\n",
    "                        n_jobs=-1, return_train_score=True)\n",
    "print_scores_cv(scores)"
   ]
  },
  {
   "cell_type": "code",
   "execution_count": 62,
   "metadata": {
    "ExecuteTime": {
     "end_time": "2019-06-14T00:51:28.646565Z",
     "start_time": "2019-06-14T00:24:28.967733Z"
    }
   },
   "outputs": [
    {
     "name": "stdout",
     "output_type": "stream",
     "text": [
      "test_f1: 0.81 +- 0.06\n",
      "train_f1: 0.88 +- 0.01\n",
      "test_average_precision: 0.79 +- 0.06\n",
      "train_average_precision: 0.90 +- 0.01\n",
      "test_roc_auc: 0.94 +- 0.01\n",
      "train_roc_auc: 0.99 +- 0.00\n",
      "test_precision: 0.91 +- 0.06\n",
      "train_precision: 0.98 +- 0.01\n",
      "test_recall: 0.73 +- 0.06\n",
      "train_recall: 0.80 +- 0.01\n"
     ]
    }
   ],
   "source": [
    "from sklearn.svm import SVC\n",
    "std_scaler = StandardScaler()\n",
    "feat_sel = FeatureSelectorDic(\n",
    "    ['V4','V14','V16','V17','V18','TimeSin','AmountBC']\n",
    "    ,feat_to_idx)\n",
    "clf_ = SVC(random_state=0, probability=True)\n",
    "clf = make_pipeline(feat_sel,std_scaler,clf_)\n",
    "\n",
    "scores = cross_validate(clf,X,y,cv=cv,\n",
    "                        scoring=['f1','average_precision','roc_auc','precision','recall'],\n",
    "                        n_jobs=-1, return_train_score=True)\n",
    "print_scores_cv(scores)"
   ]
  },
  {
   "cell_type": "code",
   "execution_count": 63,
   "metadata": {
    "ExecuteTime": {
     "end_time": "2019-06-14T08:27:05.781174Z",
     "start_time": "2019-06-14T08:27:05.635970Z"
    }
   },
   "outputs": [
    {
     "data": {
      "text/plain": [
       "{'fit_time': array([1457.18579388,  744.00951409, 1227.25221896, 1594.66873312]),\n",
       " 'score_time': array([3.38224792, 7.32759595, 6.6629231 , 3.24127603]),\n",
       " 'test_f1': array([0.75471698, 0.76363636, 0.88073394, 0.8440367 ]),\n",
       " 'train_f1': array([0.88282504, 0.88424437, 0.86956522, 0.8802589 ]),\n",
       " 'test_average_precision': array([0.73669667, 0.75148964, 0.87406087, 0.81671161]),\n",
       " 'train_average_precision': array([0.90684874, 0.90565816, 0.8917859 , 0.89288588]),\n",
       " 'test_roc_auc': array([0.93120916, 0.93342655, 0.94207184, 0.93920562]),\n",
       " 'train_roc_auc': array([0.99360607, 0.99011941, 0.99041338, 0.98911905]),\n",
       " 'test_precision': array([0.86956522, 0.84      , 0.97959184, 0.93877551]),\n",
       " 'train_precision': array([0.97864769, 0.98214286, 0.96774194, 0.98550725]),\n",
       " 'test_recall': array([0.66666667, 0.7       , 0.8       , 0.76666667]),\n",
       " 'train_recall': array([0.80409357, 0.80409357, 0.78947368, 0.79532164])}"
      ]
     },
     "execution_count": 63,
     "metadata": {},
     "output_type": "execute_result"
    }
   ],
   "source": [
    "scores"
   ]
  },
  {
   "cell_type": "markdown",
   "metadata": {
    "ExecuteTime": {
     "end_time": "2019-06-14T00:24:20.707287Z",
     "start_time": "2019-06-14T00:14:35.725Z"
    }
   },
   "source": [
    "#### ExtraTrees w/ Calibration + Weight"
   ]
  },
  {
   "cell_type": "code",
   "execution_count": 56,
   "metadata": {
    "ExecuteTime": {
     "end_time": "2019-06-13T23:59:59.075908Z",
     "start_time": "2019-06-13T23:57:58.464593Z"
    }
   },
   "outputs": [
    {
     "name": "stdout",
     "output_type": "stream",
     "text": [
      "test_f1: 0.81 +- 0.04\n",
      "train_f1: 0.91 +- 0.02\n",
      "test_average_precision: 0.81 +- 0.07\n",
      "train_average_precision: 0.98 +- 0.00\n",
      "test_roc_auc: 0.97 +- 0.01\n",
      "train_roc_auc: 1.00 +- 0.00\n",
      "test_precision: 0.88 +- 0.04\n",
      "train_precision: 0.94 +- 0.02\n",
      "test_recall: 0.75 +- 0.06\n",
      "train_recall: 0.87 +- 0.03\n"
     ]
    }
   ],
   "source": [
    "from sklearn.calibration import CalibratedClassifierCV\n",
    "clf_ = HistGradientBoostingClassifier(random_state=0,scoring='f1',n_iter_no_change=50,\n",
    "                                      learning_rate=0.01,l2_regularization=0.005)\n",
    "clf = CalibratedClassifierCV(make_pipeline(std_scaler,clf_), cv=cv, method='isotonic')\n",
    "scores = cross_validate(clf,X,y,cv=cv,\n",
    "                        scoring=['f1','average_precision','roc_auc','precision','recall'],\n",
    "                        n_jobs=-1, return_train_score=True)\n",
    "print_scores_cv(scores)"
   ]
  },
  {
   "cell_type": "code",
   "execution_count": 57,
   "metadata": {
    "ExecuteTime": {
     "end_time": "2019-06-14T00:06:31.502231Z",
     "start_time": "2019-06-14T00:02:32.034000Z"
    }
   },
   "outputs": [
    {
     "name": "stdout",
     "output_type": "stream",
     "text": [
      "test_f1: 0.83 +- 0.03\n",
      "train_f1: 1.00 +- 0.00\n",
      "test_average_precision: 0.82 +- 0.05\n",
      "train_average_precision: 1.00 +- 0.00\n",
      "test_roc_auc: 0.94 +- 0.01\n",
      "train_roc_auc: 1.00 +- 0.00\n",
      "test_precision: 0.90 +- 0.05\n",
      "train_precision: 1.00 +- 0.00\n",
      "test_recall: 0.77 +- 0.02\n",
      "train_recall: 1.00 +- 0.00\n"
     ]
    }
   ],
   "source": [
    "clf_ = ExtraTreesClassifier(n_estimators=50,n_jobs=-1,random_state=0)\n",
    "clf = CalibratedClassifierCV(make_pipeline(std_scaler,clf_), cv=cv, method='isotonic')\n",
    "scores = cross_validate(clf,X,y,cv=cv,\n",
    "                        scoring=['f1','average_precision','roc_auc','precision','recall'],\n",
    "                        n_jobs=-1, return_train_score=True)\n",
    "print_scores_cv(scores)"
   ]
  },
  {
   "cell_type": "code",
   "execution_count": 59,
   "metadata": {
    "ExecuteTime": {
     "end_time": "2019-06-14T00:17:35.638619Z",
     "start_time": "2019-06-14T00:13:30.714337Z"
    }
   },
   "outputs": [
    {
     "name": "stdout",
     "output_type": "stream",
     "text": [
      "test_f1: 0.84 +- 0.05\n",
      "train_f1: 1.00 +- 0.00\n",
      "test_average_precision: 0.81 +- 0.06\n",
      "train_average_precision: 1.00 +- 0.00\n",
      "test_roc_auc: 0.94 +- 0.03\n",
      "train_roc_auc: 1.00 +- 0.00\n",
      "test_precision: 0.90 +- 0.05\n",
      "train_precision: 1.00 +- 0.00\n",
      "test_recall: 0.78 +- 0.05\n",
      "train_recall: 1.00 +- 0.00\n"
     ]
    }
   ],
   "source": [
    "clf_ = ExtraTreesClassifier(n_estimators=50,n_jobs=-1,random_state=0,class_weight=\"balanced_subsample\")\n",
    "clf = CalibratedClassifierCV(make_pipeline(std_scaler,clf_), cv=cv, method='isotonic')\n",
    "scores = cross_validate(clf,X,y,cv=cv,\n",
    "                        scoring=['f1','average_precision','roc_auc','precision','recall'],\n",
    "                        n_jobs=-1, return_train_score=True)\n",
    "print_scores_cv(scores)"
   ]
  },
  {
   "cell_type": "code",
   "execution_count": 60,
   "metadata": {
    "ExecuteTime": {
     "end_time": "2019-06-14T00:21:57.275399Z",
     "start_time": "2019-06-14T00:17:35.649410Z"
    }
   },
   "outputs": [
    {
     "name": "stdout",
     "output_type": "stream",
     "text": [
      "test_f1: 0.83 +- 0.02\n",
      "train_f1: 1.00 +- 0.00\n",
      "test_average_precision: 0.81 +- 0.07\n",
      "train_average_precision: 1.00 +- 0.00\n",
      "test_roc_auc: 0.94 +- 0.02\n",
      "train_roc_auc: 1.00 +- 0.00\n",
      "test_precision: 0.90 +- 0.03\n",
      "train_precision: 1.00 +- 0.00\n",
      "test_recall: 0.78 +- 0.04\n",
      "train_recall: 1.00 +- 0.00\n"
     ]
    }
   ],
   "source": [
    "clf_ = ExtraTreesClassifier(n_estimators=50,n_jobs=-1,random_state=0,class_weight={0:1,1:10})\n",
    "clf = CalibratedClassifierCV(make_pipeline(std_scaler,clf_), cv=cv, method='isotonic')\n",
    "scores = cross_validate(clf,X,y,cv=cv,\n",
    "                        scoring=['f1','average_precision','roc_auc','precision','recall'],\n",
    "                        n_jobs=-1, return_train_score=True)\n",
    "print_scores_cv(scores)"
   ]
  },
  {
   "cell_type": "code",
   "execution_count": 64,
   "metadata": {
    "ExecuteTime": {
     "end_time": "2019-06-14T09:21:29.974433Z",
     "start_time": "2019-06-14T09:18:04.987440Z"
    }
   },
   "outputs": [
    {
     "name": "stdout",
     "output_type": "stream",
     "text": [
      "test_f1: 0.83 +- 0.03\n",
      "train_f1: 1.00 +- 0.00\n",
      "test_average_precision: 0.81 +- 0.05\n",
      "train_average_precision: 1.00 +- 0.00\n",
      "test_roc_auc: 0.95 +- 0.03\n",
      "train_roc_auc: 1.00 +- 0.00\n",
      "test_precision: 0.88 +- 0.05\n",
      "train_precision: 1.00 +- 0.00\n",
      "test_recall: 0.78 +- 0.05\n",
      "train_recall: 1.00 +- 0.00\n"
     ]
    }
   ],
   "source": [
    "clf_ = ExtraTreesClassifier(n_estimators=50,n_jobs=-1,random_state=0,class_weight={0:1,1:100})\n",
    "clf = CalibratedClassifierCV(make_pipeline(std_scaler,clf_), cv=cv, method='isotonic')\n",
    "scores = cross_validate(clf,X,y,cv=cv,\n",
    "                        scoring=['f1','average_precision','roc_auc','precision','recall'],\n",
    "                        n_jobs=-1, return_train_score=True)\n",
    "print_scores_cv(scores)"
   ]
  },
  {
   "cell_type": "code",
   "execution_count": 65,
   "metadata": {
    "ExecuteTime": {
     "end_time": "2019-06-14T09:24:51.337074Z",
     "start_time": "2019-06-14T09:21:29.979515Z"
    }
   },
   "outputs": [
    {
     "name": "stdout",
     "output_type": "stream",
     "text": [
      "test_f1: 0.84 +- 0.03\n",
      "train_f1: 1.00 +- 0.00\n",
      "test_average_precision: 0.81 +- 0.05\n",
      "train_average_precision: 1.00 +- 0.00\n",
      "test_roc_auc: 0.93 +- 0.02\n",
      "train_roc_auc: 1.00 +- 0.00\n",
      "test_precision: 0.90 +- 0.03\n",
      "train_precision: 1.00 +- 0.00\n",
      "test_recall: 0.78 +- 0.05\n",
      "train_recall: 1.00 +- 0.00\n"
     ]
    }
   ],
   "source": [
    "clf_ = ExtraTreesClassifier(n_estimators=50,n_jobs=-1,random_state=0,class_weight={0:1,1:1000})\n",
    "clf = CalibratedClassifierCV(make_pipeline(std_scaler,clf_), cv=cv, method='isotonic')\n",
    "scores = cross_validate(clf,X,y,cv=cv,\n",
    "                        scoring=['f1','average_precision','roc_auc','precision','recall'],\n",
    "                        n_jobs=-1, return_train_score=True)\n",
    "print_scores_cv(scores)"
   ]
  },
  {
   "cell_type": "code",
   "execution_count": null,
   "metadata": {
    "ExecuteTime": {
     "start_time": "2019-06-14T10:01:57.966Z"
    }
   },
   "outputs": [],
   "source": [
    "from sklearn.feature_selection import SelectFromModel\n",
    "from sklearn.svm import LinearSVC\n",
    "lsvc = LinearSVC(C=0.01, penalty=\"l1\", dual=False)\n",
    "feat_select_model = SelectFromModel(lsvc)\n",
    "\n",
    "scaler = StandardScaler()\n",
    "clf_ = ExtraTreesClassifier(n_estimators=50,n_jobs=-1,random_state=0)\n",
    "clf = make_pipeline(feat_select_model,scaler,clf_)\n",
    "\n",
    "scores = cross_validate(clf,X,y,cv=cv,scoring=['f1','average_precision','roc_auc','precision','recall'],n_jobs=-1, return_train_score=True)\n",
    "print_scores_cv(scores)"
   ]
  },
  {
   "cell_type": "code",
   "execution_count": null,
   "metadata": {},
   "outputs": [],
   "source": []
  }
 ],
 "metadata": {
  "kernelspec": {
   "display_name": "Python 3",
   "language": "python",
   "name": "python3"
  },
  "language_info": {
   "codemirror_mode": {
    "name": "ipython",
    "version": 3
   },
   "file_extension": ".py",
   "mimetype": "text/x-python",
   "name": "python",
   "nbconvert_exporter": "python",
   "pygments_lexer": "ipython3",
   "version": "3.6.8"
  },
  "toc": {
   "base_numbering": 1,
   "nav_menu": {},
   "number_sections": true,
   "sideBar": true,
   "skip_h1_title": false,
   "title_cell": "Table of Contents",
   "title_sidebar": "Contents",
   "toc_cell": false,
   "toc_position": {},
   "toc_section_display": true,
   "toc_window_display": false
  }
 },
 "nbformat": 4,
 "nbformat_minor": 2
}
